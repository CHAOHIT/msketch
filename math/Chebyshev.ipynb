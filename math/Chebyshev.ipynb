{
 "cells": [
  {
   "cell_type": "code",
   "execution_count": 1,
   "metadata": {
    "collapsed": true
   },
   "outputs": [],
   "source": [
    "%matplotlib inline\n",
    "import matplotlib.pyplot as plt\n",
    "import pandas as pd\n",
    "import numpy as np\n",
    "import scipy\n",
    "import scipy.integrate\n",
    "import scipy.linalg\n",
    "import math\n",
    "import time"
   ]
  },
  {
   "cell_type": "code",
   "execution_count": 102,
   "metadata": {
    "collapsed": true
   },
   "outputs": [],
   "source": [
    "df = pd.read_csv(\"../sampledata/shuttle.csv\")\n",
    "data = df[\"0\"]\n",
    "\n",
    "# df = pd.read_csv(\"../sampledata/uci_retail_cleaned.csv\")\n",
    "# data = df[\"x\"]\n",
    "\n",
    "# df = pd.read_csv(\"../sampledata/occupancy_2.csv\")\n",
    "# data = df[\"CO2\"]"
   ]
  },
  {
   "cell_type": "code",
   "execution_count": 103,
   "metadata": {
    "collapsed": true
   },
   "outputs": [],
   "source": [
    "x_min = np.min(data)\n",
    "x_max = np.max(data)\n",
    "data = (data - x_min)\n",
    "data = data / np.max(data)\n",
    "data = (data-.5)*2\n",
    "\n",
    "k=11\n",
    "p_gen = np.polynomial.chebyshev.Chebyshev\n",
    "# Polynomial Basis\n",
    "p_basis = [p_gen.basis(deg=i) for i in range(2*k)]\n",
    "# Dataset Moments\n",
    "d_mus = np.array([\n",
    "    np.mean(p(data)) for p in p_basis\n",
    "])\n",
    "# print(repr(d_mus))"
   ]
  },
  {
   "cell_type": "code",
   "execution_count": 114,
   "metadata": {
    "collapsed": true
   },
   "outputs": [],
   "source": [
    "# Clenshaw-Curtis Quadrature (see Numerical recipes 5.9.1)\n",
    "def fit_cpoly(f, tol=1e-10):\n",
    "    c_k = 50\n",
    "    while True:\n",
    "        xvals = np.cos(np.linspace(0,math.pi,c_k+1))\n",
    "        fvals = f(xvals)\n",
    "        cs = np.zeros(c_k+1)\n",
    "        for j in range(c_k+1):\n",
    "            xjvals = np.cos(np.linspace(0,j*math.pi,c_k+1))\n",
    "            cs[j] = (2.0/c_k)*(\n",
    "                np.inner(fvals[1:-1],xjvals[1:-1]) \n",
    "                + .5*fvals[0]*xjvals[0]\n",
    "                + .5*fvals[-1]*xjvals[-1]\n",
    "            )\n",
    "        # Last term of the expansion is an error bound\n",
    "        if cs[-1] < tol:\n",
    "            break\n",
    "        else:\n",
    "            c_k *= 2\n",
    "    cs[0] *= .5\n",
    "    return cs\n",
    "def calc_mus(f, mu_k):\n",
    "    f_coeffs = fit_cpoly(f, 1e-10)\n",
    "    f_cp = p_gen(f_coeffs)\n",
    "    mus = [\n",
    "        (f_cp * p_basis[i]).integ(lbnd=-1)(1)\n",
    "        for i in range(mu_k)\n",
    "    ]\n",
    "    return np.array(mus)\n",
    "\n",
    "def gen_pdf(lambd):\n",
    "    cp = p_gen(lambd)\n",
    "    def pdf(x):\n",
    "        return np.exp(-cp(x))\n",
    "    return pdf\n",
    "def calc_quantile(lambd, p, tol=1e-10):\n",
    "    cp = p_gen(fit_cpoly(gen_pdf(lambd), tol=tol))\n",
    "    cp_integral = cp.integ(lbnd=-1) - p\n",
    "    val = scipy.optimize.brentq(\n",
    "        f=cp_integral,\n",
    "        a=-1,\n",
    "        b=1,\n",
    "        xtol=tol,\n",
    "    )\n",
    "    return val"
   ]
  },
  {
   "cell_type": "code",
   "execution_count": 115,
   "metadata": {
    "collapsed": true
   },
   "outputs": [],
   "source": [
    "# See newton's method in boyd's convex optimization for importance of step size backtracking\n",
    "def step_backtrack(func, x0, dx, f0, df0):\n",
    "    alpha = .3\n",
    "    beta = .25\n",
    "    t = 1.0\n",
    "    f1 = func(x0+t*dx)\n",
    "    while f1 > f0 + alpha*t*np.inner(df0, dx):\n",
    "        t *= beta\n",
    "        f1 = func(x0+t*dx)\n",
    "    return t\n",
    "def newton2(data_mus, max_steps=100):\n",
    "    k = len(data_mus)\n",
    "    # Convex potential function P \n",
    "    # which has a minimum and gradient 0 when the moments match\n",
    "    def P(lambd):\n",
    "        f_pdf = gen_pdf(lambd)\n",
    "        f_mus = calc_mus(f_pdf, 1)\n",
    "        return f_mus[0] + np.inner(lambd, data_mus)\n",
    "\n",
    "    cur_lambd = np.zeros(k)\n",
    "    steps = 0\n",
    "    while True:\n",
    "        pdf = gen_pdf(cur_lambd)\n",
    "        e_mus = calc_mus(pdf, 2*k)\n",
    "        f0 = e_mus[0] + np.inner(cur_lambd, data_mus)\n",
    "        dlambda = data_mus - e_mus[:k]\n",
    "#         print(\"dlambda: {}\".format(dlambda))\n",
    "        if np.max(dlambda) < 1e-10:\n",
    "            return cur_lambd\n",
    "        # Derivative of chebyshev polynomial\n",
    "        hh = np.array([[\n",
    "            (e_mus[i+j] + e_mus[abs(i-j)])*.5\n",
    "            for i in range(k)\n",
    "        ] for j in range(k)])\n",
    "        lambda_step = scipy.linalg.solve(\n",
    "            hh,\n",
    "            -dlambda,\n",
    "            assume_a=\"pos\",\n",
    "            overwrite_a=True\n",
    "        )\n",
    "        t = step_backtrack(\n",
    "            P, \n",
    "            x0=cur_lambd, dx=lambda_step, \n",
    "            f0=f0, df0=dlambda\n",
    "        )\n",
    "#         print(\"t: {}\".format(t))\n",
    "        \n",
    "        cur_lambd += t*lambda_step\n",
    "        steps += 1\n",
    "        if steps > max_steps:\n",
    "            return cur_lambd"
   ]
  },
  {
   "cell_type": "code",
   "execution_count": 116,
   "metadata": {},
   "outputs": [
    {
     "name": "stdout",
     "output_type": "stream",
     "text": [
      "0.6512141227722168\n"
     ]
    }
   ],
   "source": [
    "start_time = time.time()\n",
    "lambd_maxent = newton2(d_mus[:11])\n",
    "elapsed = time.time() - start_time\n",
    "print(elapsed)"
   ]
  },
  {
   "cell_type": "code",
   "execution_count": 117,
   "metadata": {},
   "outputs": [
    {
     "name": "stdout",
     "output_type": "stream",
     "text": [
      "Estimated p0.5: -0.6019042208247855\n",
      "True p0.5: -0.6363636363636364\n",
      "Quantile Error: 0.04163218390804602\n"
     ]
    }
   ],
   "source": [
    "p=.5\n",
    "sdata = np.sort(data)\n",
    "est_q = calc_quantile(lambd_maxent, p, tol=1e-5)\n",
    "est_q_cdf = np.searchsorted(sdata, est_q) / len(sdata)\n",
    "est_q_error = est_q_cdf - p\n",
    "q = np.percentile(data, p*100)\n",
    "print(\"Estimated p{}: {}\".format(p,est_q))\n",
    "print(\"True p{}: {}\".format(p,q))\n",
    "print(\"Quantile Error: {}\".format(est_q_error))"
   ]
  },
  {
   "cell_type": "code",
   "execution_count": 118,
   "metadata": {},
   "outputs": [
    {
     "data": {
      "text/plain": [
       "<matplotlib.legend.Legend at 0x11b159048>"
      ]
     },
     "execution_count": 118,
     "metadata": {},
     "output_type": "execute_result"
    },
    {
     "data": {
      "image/png": "[encoded data removed]",
      "text/plain": [
       "<matplotlib.figure.Figure at 0x11b159518>"
      ]
     },
     "metadata": {},
     "output_type": "display_data"
    }
   ],
   "source": [
    "xs = np.linspace(-1,1,1000)\n",
    "f0 = gen_pdf(lambd_maxent)\n",
    "y0 = [f0(x) for x in xs]\n",
    "plt.plot(xs, y0, label=\"maxent\")\n",
    "_ = plt.hist(data, density=True, bins=80, alpha=.3)\n",
    "plt.ylim(0,8)\n",
    "plt.legend()"
   ]
  },
  {
   "cell_type": "code",
   "execution_count": null,
   "metadata": {
    "collapsed": true
   },
   "outputs": [],
   "source": []
  }
 ],
 "metadata": {
  "kernelspec": {
   "display_name": "Python 3",
   "language": "python",
   "name": "python3"
  },
  "language_info": {
   "codemirror_mode": {
    "name": "ipython",
    "version": 3
   },
   "file_extension": ".py",
   "mimetype": "text/x-python",
   "name": "python",
   "nbconvert_exporter": "python",
   "pygments_lexer": "ipython3",
   "version": "3.6.2"
  }
 },
 "nbformat": 4,
 "nbformat_minor": 2
}
