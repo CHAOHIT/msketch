{
 "cells": [
  {
   "cell_type": "code",
   "execution_count": 1,
   "metadata": {
    "collapsed": true
   },
   "outputs": [],
   "source": [
    "%matplotlib inline\n",
    "import matplotlib.pyplot as plt\n",
    "import pandas as pd\n",
    "import numpy as np\n",
    "import scipy\n",
    "import scipy.integrate\n",
    "import scipy.linalg\n",
    "import math"
   ]
  },
  {
   "cell_type": "code",
   "execution_count": 2,
   "metadata": {
    "collapsed": true
   },
   "outputs": [],
   "source": [
    "df = pd.read_csv(\"../sampledata/shuttle.csv\")\n",
    "data = df[\"0\"]"
   ]
  },
  {
   "cell_type": "code",
   "execution_count": 39,
   "metadata": {},
   "outputs": [],
   "source": [
    "x_min = np.min(data)\n",
    "x_max = np.max(data)\n",
    "data = (data - x_min)\n",
    "data = data / np.max(data)\n",
    "data = (data-.5)*2\n",
    "\n",
    "k=11\n",
    "p_gen = np.polynomial.chebyshev.Chebyshev\n",
    "# p_gen = np.polynomial.polynomial.Polynomial\n",
    "# Polynomial Basis\n",
    "p_basis = [p_gen.basis(deg=i)for i in range(2*k)]\n",
    "# Dataset Moments\n",
    "d_mus = np.array([\n",
    "    np.mean(p(data)) for p in p_basis\n",
    "])\n",
    "# print(repr(d_mus))"
   ]
  },
  {
   "cell_type": "code",
   "execution_count": 14,
   "metadata": {
    "collapsed": true
   },
   "outputs": [],
   "source": [
    "def calc_mus(f, mu_k):\n",
    "    mus = []\n",
    "    for i in range(mu_k):\n",
    "        p = p_basis[i]\n",
    "        v,err = scipy.integrate.quad(\n",
    "            lambda x: f(x)*p(x), -1, 1,\n",
    "            epsrel=0.0,\n",
    "            epsabs=1e-10,\n",
    "            limit=200\n",
    "        )\n",
    "        mus.append(v)\n",
    "    return np.array(mus)\n",
    "def gen_pdf(lambd):\n",
    "    cp = p_gen(lambd)\n",
    "    def pdf(x):\n",
    "        return math.exp(-cp(x))\n",
    "    return pdf"
   ]
  },
  {
   "cell_type": "code",
   "execution_count": 15,
   "metadata": {},
   "outputs": [
    {
     "data": {
      "text/plain": [
       "array([ 6.30395464, -1.03958773, -4.9297353 ])"
      ]
     },
     "execution_count": 15,
     "metadata": {},
     "output_type": "execute_result"
    }
   ],
   "source": [
    "calc_mus(gen_pdf(np.array([1,2,3])),3)"
   ]
  },
  {
   "cell_type": "code",
   "execution_count": 29,
   "metadata": {
    "collapsed": true
   },
   "outputs": [],
   "source": [
    "# See newton's method in boyd's convex optimization for importance of step size backtracking\n",
    "max_steps = 50\n",
    "def step_backtrack(func, x0, dx, f0, df0):\n",
    "    alpha = .3\n",
    "    beta = .25\n",
    "    t = 1.0\n",
    "    f1 = func(x0+t*dx)\n",
    "    while f1 > f0 + alpha*t*np.inner(df0, dx):\n",
    "        t *= beta\n",
    "        f1 = func(x0+t*dx)\n",
    "    return t\n",
    "def newton2(data_mus):\n",
    "    k = len(data_mus)\n",
    "    # Convex potential function P \n",
    "    # which has a minimum and gradient 0 when the moments match\n",
    "    def P(lambd):\n",
    "        f_pdf = gen_pdf(lambd)\n",
    "        f_mus = calc_mus(f_pdf, 1)\n",
    "        return f_mus[0] + np.inner(lambd, data_mus)\n",
    "\n",
    "    cur_lambd = np.zeros(k)\n",
    "    steps = 0\n",
    "    while True:\n",
    "        pdf = gen_pdf(cur_lambd)\n",
    "        e_mus = calc_mus(pdf, 2*k)\n",
    "        f0 = e_mus[0] + np.inner(cur_lambd, data_mus)\n",
    "        dlambda = data_mus - e_mus[:k]\n",
    "#         print(\"dlambda: {}\".format(dlambda))\n",
    "        if np.max(dlambda) < 1e-10:\n",
    "            return cur_lambd\n",
    "        # Derivative of chebyshev polynomial\n",
    "        hh = np.array([[\n",
    "            (e_mus[i+j] + e_mus[abs(i-j)])*.5\n",
    "            for i in range(k)\n",
    "        ] for j in range(k)])\n",
    "        lambda_step = scipy.linalg.solve(\n",
    "            hh,\n",
    "            -dlambda,\n",
    "            assume_a=\"pos\",\n",
    "            overwrite_a=True\n",
    "        )\n",
    "        t = step_backtrack(P, x0=cur_lambd, dx=lambda_step, f0=f0, df0=dlambda)\n",
    "        \n",
    "        cur_lambd += t*lambda_step\n",
    "        steps += 1\n",
    "        if steps > max_steps:\n",
    "            return cur_lambd"
   ]
  },
  {
   "cell_type": "code",
   "execution_count": 32,
   "metadata": {},
   "outputs": [],
   "source": [
    "lambd_maxent = newton2(mus[:11])"
   ]
  },
  {
   "cell_type": "code",
   "execution_count": 57,
   "metadata": {
    "collapsed": true
   },
   "outputs": [],
   "source": [
    "def calc_quantile(f, p, tol=1e-8, fmin=-1, fmax=1):\n",
    "    def cdf(x):\n",
    "        y, err = scipy.integrate.quad(f, fmin, x, epsabs=tol, epsrel=tol)\n",
    "        return y - p\n",
    "    val = scipy.optimize.brentq(\n",
    "        f=cdf,\n",
    "        a=fmin,\n",
    "        b=fmax,\n",
    "        xtol=tol,\n",
    "    )\n",
    "    return val"
   ]
  },
  {
   "cell_type": "code",
   "execution_count": 64,
   "metadata": {},
   "outputs": [
    {
     "name": "stdout",
     "output_type": "stream",
     "text": [
      "Estimated p0.5: -0.6019026023169671\n",
      "True p0.5: -0.6363636363636364\n",
      "Quantile Error: 0.04163218390804602\n"
     ]
    }
   ],
   "source": [
    "p=.5\n",
    "sdata = np.sort(data)\n",
    "f_est = gen_pdf(lambd_maxent)\n",
    "est_q = calc_quantile(f_est, p, tol=1e-5)\n",
    "est_q_cdf = np.searchsorted(sdata, est_q) / len(sdata)\n",
    "est_q_error = est_q_cdf - p\n",
    "q = np.percentile(data, p*100)\n",
    "print(\"Estimated p{}: {}\".format(p,est_q))\n",
    "print(\"True p{}: {}\".format(p,q))\n",
    "print(\"Quantile Error: {}\".format(est_q_error))"
   ]
  },
  {
   "cell_type": "code",
   "execution_count": 38,
   "metadata": {},
   "outputs": [
    {
     "data": {
      "text/plain": [
       "<matplotlib.legend.Legend at 0x108a7ea20>"
      ]
     },
     "execution_count": 38,
     "metadata": {},
     "output_type": "execute_result"
    },
    {
     "data": {
      "image/png": "[encoded data removed]",
      "text/plain": [
       "<matplotlib.figure.Figure at 0x1079274e0>"
      ]
     },
     "metadata": {},
     "output_type": "display_data"
    }
   ],
   "source": [
    "xs = np.linspace(-1,1,1000)\n",
    "f0 = gen_pdf(lambd_maxent)\n",
    "y0 = [f0(x) for x in xs]\n",
    "plt.plot(xs, y0, label=\"maxent\")\n",
    "_ = plt.hist(data, density=True, bins=80, alpha=.3)\n",
    "plt.ylim(0,6)\n",
    "plt.legend()"
   ]
  },
  {
   "cell_type": "code",
   "execution_count": null,
   "metadata": {
    "collapsed": true
   },
   "outputs": [],
   "source": []
  }
 ],
 "metadata": {
  "kernelspec": {
   "display_name": "Python 3",
   "language": "python",
   "name": "python3"
  },
  "language_info": {
   "codemirror_mode": {
    "name": "ipython",
    "version": 3
   },
   "file_extension": ".py",
   "mimetype": "text/x-python",
   "name": "python",
   "nbconvert_exporter": "python",
   "pygments_lexer": "ipython3",
   "version": "3.6.2"
  }
 },
 "nbformat": 4,
 "nbformat_minor": 2
}
