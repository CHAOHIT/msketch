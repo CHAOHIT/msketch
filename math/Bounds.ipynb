{
 "cells": [
  {
   "cell_type": "code",
   "execution_count": 128,
   "metadata": {
    "collapsed": true
   },
   "outputs": [],
   "source": [
    "%matplotlib inline\n",
    "import matplotlib.pyplot as plt\n",
    "import pandas as pd\n",
    "import numpy as np\n",
    "import scipy\n",
    "import scipy.integrate\n",
    "import scipy.linalg\n",
    "import math"
   ]
  },
  {
   "cell_type": "code",
   "execution_count": 129,
   "metadata": {},
   "outputs": [],
   "source": [
    "df = pd.read_csv(\"../sampledata/shuttle.csv\")\n",
    "sampledata = df[\"0\"]"
   ]
  },
  {
   "cell_type": "code",
   "execution_count": 130,
   "metadata": {
    "collapsed": true
   },
   "outputs": [],
   "source": [
    "# http://www.sciencedirect.com/science/article/pii/S0895717705004863#fd16\n",
    "def moments(data, n):\n",
    "    return [\n",
    "        sum([x**i for x in data]) for i in range(2*n + 1)\n",
    "    ]\n",
    "\n",
    "def hankel_det(m):\n",
    "    n = int((len(m) - 1) / 2)\n",
    "    matrix = []\n",
    "    for r in range(n+1):\n",
    "        matrix.append(m[r:r+n+1])\n",
    "    matrix = np.asarray(matrix)\n",
    "    return np.linalg.det(matrix)\n",
    "\n",
    "# Moments on data shifted so point of interest is 0\n",
    "def max_mass_at_zero(normalized_moments):\n",
    "    n = int((len(normalized_moments) - 1) / 2)\n",
    "    numerator_matrix = []\n",
    "    for r in range(n+1):\n",
    "        numerator_matrix.append(normalized_moments[r:r+n+1])\n",
    "    numerator_matrix = np.asarray(numerator_matrix)\n",
    "    denominator_matrix = []\n",
    "    for r in range(2, n+2):\n",
    "        denominator_matrix.append(normalized_moments[r:r+n])\n",
    "    denominator_matrix = np.asarray(denominator_matrix)\n",
    "    p = np.linalg.det(numerator_matrix) / np.linalg.det(denominator_matrix)\n",
    "    return p\n",
    "\n",
    "# Moments on data shifted so point of interest is 0\n",
    "# Question: should first moment also be subtracted by p?\n",
    "def gen_orthogonal_P(normalized_moments):\n",
    "    n = int((len(normalized_moments) - 1) / 2)\n",
    "    scale = 1. / math.sqrt(hankel_det(normalized_moments[:-2]) * hankel_det(normalized_moments))\n",
    "    \n",
    "    matrix = []\n",
    "    for r in range(n):\n",
    "        matrix.append(normalized_moments[r:r+n+1])\n",
    "    matrix = np.asarray(matrix)\n",
    "        \n",
    "    coefs = []\n",
    "    sign = 1 if n % 2 == 0 else -1\n",
    "    for i in range(n+1):\n",
    "        minor = np.delete(matrix, i, axis=1)\n",
    "        coefs.append(sign * (-1)**i * np.linalg.det(minor))\n",
    "    \n",
    "    def P(x):\n",
    "        return sum([coefs[i] * x**i for i in range(n+1)])\n",
    "    return P, coefs"
   ]
  },
  {
   "cell_type": "code",
   "execution_count": 131,
   "metadata": {},
   "outputs": [],
   "source": [
    "def bounds(data, C, n):\n",
    "    # shift data so C is 0\n",
    "    data = data - C\n",
    "    m = moments(data, n)\n",
    "    m /= m[0]\n",
    "    p = max_mass_at_zero(m)\n",
    "    print(\"Bound size: \", p)\n",
    "    P, coefs = gen_orthogonal_P(m)\n",
    "    xs = np.roots(coefs[::-1])\n",
    "    m[0] -= p\n",
    "    A = []\n",
    "    for i in range(n):\n",
    "        A.append([x**i for x in xs])\n",
    "    A = np.asarray(A)\n",
    "    weights = np.linalg.solve(A, m[:n])\n",
    "    L = 0\n",
    "    for x, w in zip(xs, weights):\n",
    "        if x < 0:\n",
    "            L += w\n",
    "    U = L + p\n",
    "    print(\"Quantile of estimate is between: \", L, U)"
   ]
  },
  {
   "cell_type": "code",
   "execution_count": 132,
   "metadata": {},
   "outputs": [
    {
     "name": "stdout",
     "output_type": "stream",
     "text": [
      "Bound size:  0.166425004172\n",
      "Quantile of estimate is between:  0.805517997235 0.971943001407\n",
      "Actual quantile:  0.936068965517\n"
     ]
    }
   ],
   "source": [
    "estimate = 60.227341\n",
    "bounds(sampledata, estimate, 4)\n",
    "\n",
    "sdata = np.sort(sampledata)\n",
    "print(\"Actual quantile: \", np.searchsorted(sdata, estimate) / len(sdata))"
   ]
  },
  {
   "cell_type": "code",
   "execution_count": 133,
   "metadata": {},
   "outputs": [
    {
     "data": {
      "image/png": "[encoded data removed]",
      "text/plain": [
       "<matplotlib.figure.Figure at 0x10e2e9d68>"
      ]
     },
     "metadata": {},
     "output_type": "display_data"
    }
   ],
   "source": [
    "plt.hist(sampledata, bins=100, range=[0,100])\n",
    "plt.show()"
   ]
  },
  {
   "cell_type": "code",
   "execution_count": null,
   "metadata": {
    "collapsed": true
   },
   "outputs": [],
   "source": []
  }
 ],
 "metadata": {
  "kernelspec": {
   "display_name": "Python 3",
   "language": "python",
   "name": "python3"
  },
  "language_info": {
   "codemirror_mode": {
    "name": "ipython",
    "version": 3
   },
   "file_extension": ".py",
   "mimetype": "text/x-python",
   "name": "python",
   "nbconvert_exporter": "python",
   "pygments_lexer": "ipython3",
   "version": "3.6.1"
  }
 },
 "nbformat": 4,
 "nbformat_minor": 2
}
