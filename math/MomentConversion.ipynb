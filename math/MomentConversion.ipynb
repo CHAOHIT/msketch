{
 "cells": [
  {
   "cell_type": "code",
   "execution_count": 1,
   "metadata": {
    "collapsed": true
   },
   "outputs": [],
   "source": [
    "%matplotlib inline\n",
    "import matplotlib.pyplot as plt\n",
    "import pandas as pd\n",
    "import numpy as np\n",
    "import scipy\n",
    "import scipy.linalg\n",
    "import scipy.fftpack\n",
    "import scipy.optimize\n",
    "import math\n",
    "import time"
   ]
  },
  {
   "cell_type": "code",
   "execution_count": 2,
   "metadata": {
    "collapsed": true
   },
   "outputs": [],
   "source": [
    "p_gen = np.polynomial.chebyshev.Chebyshev"
   ]
  },
  {
   "cell_type": "code",
   "execution_count": 3,
   "metadata": {
    "collapsed": true
   },
   "outputs": [],
   "source": [
    "def calc_power_sums(xs, k):\n",
    "    return np.array([\n",
    "        np.sum(xs**i) for i in range(k)\n",
    "    ])\n",
    "def calc_cheby_sums(xs, k):\n",
    "    return np.array([\n",
    "        np.sum(p_gen.basis(i)(xs)) for i in range(k)\n",
    "    ])"
   ]
  },
  {
   "cell_type": "code",
   "execution_count": 5,
   "metadata": {
    "collapsed": true
   },
   "outputs": [],
   "source": [
    "maxk = 31\n",
    "cheby_coeffs = [\n",
    "    np.array([1]),\n",
    "    np.array([0,1]),\n",
    "]\n",
    "for i in range(2,maxk+1):\n",
    "    Tn1 = cheby_coeffs[-1]\n",
    "    Tn2 = cheby_coeffs[-2]\n",
    "    cheby_coeffs.append(\n",
    "        np.insert(2*Tn1,0,0) \n",
    "        - np.concatenate([Tn2,[0,0]])\n",
    "    )"
   ]
  },
  {
   "cell_type": "code",
   "execution_count": 6,
   "metadata": {
    "collapsed": true
   },
   "outputs": [],
   "source": [
    "def shift(\n",
    "    ms, xmin, xmax\n",
    "):\n",
    "    k = len(ms) - 1\n",
    "    r = (xmax - xmin) / 2\n",
    "    xc = (xmax + xmin) / 2\n",
    "    ms_scaled = np.zeros(k+1)\n",
    "    nxc_powers = np.power(-xc, np.arange(0,k+1))\n",
    "    for m in range(k+1):\n",
    "        ms_scaled[m] = np.sum(\n",
    "            scipy.special.binom(m, np.arange(0,m+1)) \n",
    "            * nxc_powers[:m+1][::-1]\n",
    "            * ms[:m+1]\n",
    "        ) * math.pow(r,-m)\n",
    "    return ms_scaled\n",
    "def shifted_to_cheby(\n",
    "    ms_scaled\n",
    "):\n",
    "    k = len(ms_scaled) - 1\n",
    "    ms_cheby = np.zeros(k+1)\n",
    "    for i in range(k+1):\n",
    "        ms_cheby[i] = np.inner(\n",
    "            cheby_coeffs[i], ms_scaled[:i+1]\n",
    "        )\n",
    "    return ms_cheby"
   ]
  },
  {
   "cell_type": "code",
   "execution_count": 7,
   "metadata": {
    "collapsed": true
   },
   "outputs": [],
   "source": [
    "def compare_methods(xs, k):\n",
    "    xmin = np.min(xs)\n",
    "    xmax = np.max(xs)\n",
    "    xc = (xmin + xmax)/2\n",
    "    xr = (xmax - xmin)/2\n",
    "    axs = (xs - xc)/xr\n",
    "    mus_a = [np.mean(axs**i) for i in range(k)]\n",
    "    \n",
    "    mus_x = [np.mean(xs**i) for i in range(k)]\n",
    "    mus_xa = shift(mus_x, xmin, xmax)\n",
    "    \n",
    "    rel_error = np.abs((mus_a - mus_xa)) * np.power(3, np.arange(k))\n",
    "    \n",
    "    max_k = k-1\n",
    "    for i in range(2,k):\n",
    "        if rel_error[i] > (1.0/(i-1) - 1.0/(i)):\n",
    "            max_k = i-1\n",
    "            break\n",
    "    \n",
    "    return max_k"
   ]
  },
  {
   "cell_type": "code",
   "execution_count": 8,
   "metadata": {
    "collapsed": true
   },
   "outputs": [],
   "source": [
    "def maxk_formula2(cs):\n",
    "    return (53*np.log10(2) - 2.58)/(np.log10(6) + np.log10(np.abs(cs)+1))"
   ]
  },
  {
   "cell_type": "code",
   "execution_count": 128,
   "metadata": {
    "collapsed": true
   },
   "outputs": [],
   "source": [
    "def maxk_formula(c):\n",
    "    l_eps = 52*np.log10(2)\n",
    "    for i in range(2,40):\n",
    "        lhs = i*(np.log10(6) + np.log10(np.abs(c)+1)) + np.log10(i*i - i)\n",
    "        if lhs > l_eps:\n",
    "            max_k = i-1\n",
    "            break\n",
    "    return max_k"
   ]
  },
  {
   "cell_type": "code",
   "execution_count": 9,
   "metadata": {
    "collapsed": true
   },
   "outputs": [],
   "source": [
    "def maxk_empirical(c):\n",
    "    k = 40\n",
    "    x1 = np.linspace(-1+c,c+1,100001)\n",
    "    maxk = compare_methods(x1, k)\n",
    "    return maxk"
   ]
  },
  {
   "cell_type": "code",
   "execution_count": 10,
   "metadata": {
    "collapsed": true
   },
   "outputs": [],
   "source": [
    "x1 = np.random.normal(size=100001)\n",
    "xs = (np.max(x1) - np.min(x1))/2\n",
    "x1 /= xs\n",
    "def maxk_empirical_g(c):\n",
    "    k = 40\n",
    "    maxk = compare_methods(x1+c, k)\n",
    "    return maxk"
   ]
  },
  {
   "cell_type": "code",
   "execution_count": 12,
   "metadata": {},
   "outputs": [],
   "source": [
    "cs = np.linspace(0, 10, 40)\n",
    "# cs_f = np.array([maxk_formula2(c) for c in cs])\n",
    "# cs_eg = np.array([maxk_empirical_g(c) for c in cs])\n",
    "cs_e = np.array([maxk_empirical(c) for c in cs])\n",
    "cs_f2 = maxk_formula2(cs)"
   ]
  },
  {
   "cell_type": "code",
   "execution_count": 25,
   "metadata": {},
   "outputs": [
    {
     "data": {
      "text/plain": [
       "10.654730121002933"
      ]
     },
     "execution_count": 25,
     "metadata": {},
     "output_type": "execute_result"
    }
   ],
   "source": [
    "maxk_formula2(2)"
   ]
  },
  {
   "cell_type": "code",
   "execution_count": 13,
   "metadata": {},
   "outputs": [
    {
     "data": {
      "image/png": "[encoded data removed]",
      "text/plain": [
       "<matplotlib.figure.Figure at 0x10b3c8cc0>"
      ]
     },
     "metadata": {},
     "output_type": "display_data"
    }
   ],
   "source": [
    "fig = plt.figure(figsize=(6,2.5))\n",
    "ax = fig.gca()\n",
    "# ax.plot(cs, cs_f, label=\"f\")\n",
    "ax.plot(cs, cs_e, label=\"empirical\")\n",
    "# ax.plot(cs, cs_eg, label=\"empirical g\")\n",
    "ax.plot(cs, cs_f2, label=\"lower bound\")\n",
    "ax.legend(frameon=False)\n",
    "ax.set_xlabel(\"c (offset)\")\n",
    "ax.set_ylabel(\"max k\")\n",
    "ax.set_ylim(0, 35)\n",
    "ax.yaxis.grid(True)\n",
    "fig.tight_layout()\n",
    "fig.savefig(\"maxk.pdf\")"
   ]
  },
  {
   "cell_type": "code",
   "execution_count": 143,
   "metadata": {},
   "outputs": [
    {
     "data": {
      "text/plain": [
       "2.584953978315502"
      ]
     },
     "execution_count": 143,
     "metadata": {},
     "output_type": "execute_result"
    }
   ],
   "source": [
    "k1 = 52*np.log10(2) / np.log10(6)\n",
    "np.log10(k1*k1 - k1)"
   ]
  },
  {
   "cell_type": "code",
   "execution_count": 7,
   "metadata": {},
   "outputs": [
    {
     "name": "stdout",
     "output_type": "stream",
     "text": [
      "array([        1001,       500500,    333833500, 250500250000])\n"
     ]
    }
   ],
   "source": [
    "x1 = np.linspace(0,1000,1001)\n",
    "s1 = calc_power_sums(x1, 4).astype(int)\n",
    "print(repr(s1))\n"
   ]
  },
  {
   "cell_type": "code",
   "execution_count": 91,
   "metadata": {},
   "outputs": [
    {
     "name": "stdout",
     "output_type": "stream",
     "text": [
      "array([        1001,       500500,    333833500, 250500250000])\n",
      "[ 1.     0.    -0.332  0.   ]\n"
     ]
    }
   ],
   "source": [
    "x1 = np.linspace(0,1000,1001)\n",
    "s1 = calc_power_sums(x1, 4).astype(int)\n",
    "print(repr(s1))\n",
    "print(shifted_to_cheby(shift(s1, np.min(x1), np.max(x1)))/1001.0)"
   ]
  },
  {
   "cell_type": "code",
   "execution_count": 93,
   "metadata": {},
   "outputs": [
    {
     "data": {
      "text/plain": [
       "array([  1.00000000e+00,   2.83933161e-17,  -3.32000000e-01,\n",
       "         2.83933161e-17])"
      ]
     },
     "execution_count": 93,
     "metadata": {},
     "output_type": "execute_result"
    }
   ],
   "source": [
    "x2 = np.linspace(-1,1,1001)\n",
    "calc_cheby_sums(x2, 4)/1001.0"
   ]
  },
  {
   "cell_type": "code",
   "execution_count": 67,
   "metadata": {
    "collapsed": true
   },
   "outputs": [],
   "source": [
    "df = pd.read_csv(\"../sampledata/uci_retail_cleaned.csv\")\n",
    "data = np.array(df[\"x\"],dtype=\"float64\")"
   ]
  },
  {
   "cell_type": "code",
   "execution_count": 77,
   "metadata": {},
   "outputs": [
    {
     "data": {
      "text/plain": [
       "509831.77099894051"
      ]
     },
     "execution_count": 77,
     "metadata": {},
     "output_type": "execute_result"
    }
   ],
   "source": [
    "dmin = np.min(data)\n",
    "dmax = np.max(data)\n",
    "dc = (dmax+dmin)/2\n",
    "dr = (dmax-dmin)/2\n",
    "ndata = (data - dc) /dr\n",
    "calc_cheby_sums(ndata, 10)[6]"
   ]
  },
  {
   "cell_type": "code",
   "execution_count": 78,
   "metadata": {},
   "outputs": [
    {
     "data": {
      "text/plain": [
       "509831.77099894546"
      ]
     },
     "execution_count": 78,
     "metadata": {},
     "output_type": "execute_result"
    }
   ],
   "source": [
    "s1 = calc_power_sums(data, 10)\n",
    "shifted_to_cheby(shift(\n",
    "    s1, np.min(data), np.max(data)))[6]"
   ]
  },
  {
   "cell_type": "code",
   "execution_count": null,
   "metadata": {
    "collapsed": true
   },
   "outputs": [],
   "source": []
  }
 ],
 "metadata": {
  "kernelspec": {
   "display_name": "Python 3",
   "language": "python",
   "name": "python3"
  },
  "language_info": {
   "codemirror_mode": {
    "name": "ipython",
    "version": 3
   },
   "file_extension": ".py",
   "mimetype": "text/x-python",
   "name": "python",
   "nbconvert_exporter": "python",
   "pygments_lexer": "ipython3",
   "version": "3.6.5"
  }
 },
 "nbformat": 4,
 "nbformat_minor": 2
}
