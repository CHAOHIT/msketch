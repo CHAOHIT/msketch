{
 "cells": [
  {
   "cell_type": "code",
   "execution_count": 1,
   "metadata": {
    "collapsed": true
   },
   "outputs": [],
   "source": [
    "%matplotlib inline\n",
    "import matplotlib.pyplot as plt\n",
    "import pandas as pd\n",
    "import numpy as np"
   ]
  },
  {
   "cell_type": "code",
   "execution_count": 20,
   "metadata": {
    "collapsed": true
   },
   "outputs": [],
   "source": [
    "maxk = 20"
   ]
  },
  {
   "cell_type": "code",
   "execution_count": 22,
   "metadata": {
    "collapsed": true
   },
   "outputs": [],
   "source": [
    "def scaleCheby(xs):\n",
    "    aMin = np.min(xs)\n",
    "    aMax = np.max(xs)\n",
    "    aScale = (aMax - aMin) / 2\n",
    "    aCenter = (aMax + aMin) / 2\n",
    "    s = (xs - aCenter) / aScale\n",
    "    return s\n",
    "cb = np.polynomial.chebyshev.Chebyshev.basis\n",
    "cbs = [cb(i) for i in range(maxk)]"
   ]
  },
  {
   "cell_type": "code",
   "execution_count": 23,
   "metadata": {
    "collapsed": true
   },
   "outputs": [],
   "source": [
    "m_values = {}"
   ]
  },
  {
   "cell_type": "code",
   "execution_count": 24,
   "metadata": {
    "collapsed": true
   },
   "outputs": [],
   "source": [
    "df = pd.read_csv(\"../../datasets/occupancy_2.csv\")\n",
    "xs = df[\"CO2\"]\n",
    "s = scaleCheby(xs)"
   ]
  },
  {
   "cell_type": "code",
   "execution_count": 25,
   "metadata": {},
   "outputs": [],
   "source": [
    "m1 = np.array([\n",
    "    1.0, -0.666051658913382, 0.16713195302090914, 0.04413760158616875, -0.11480241038569126, 0.16868994168208465, -0.16386383544588368, 0.14770602452971462, -0.19778963010114933, 0.1880053024528279, -0.1310744859688147, 0.12408680557341276, -0.12668482349852123, 0.0877244780613798, -0.08470387132910845, 0.13940774606584286, -0.12201012218958093, 0.06585427766615083, -0.02804396793478194, -0.007641483651988701\n",
    "])\n",
    "m2 = np.array([np.mean(cbs[i](s)) for i in range(maxk)])\n",
    "m_values[\"occupancy\"] = (m1, m2)"
   ]
  },
  {
   "cell_type": "code",
   "execution_count": 26,
   "metadata": {
    "collapsed": true
   },
   "outputs": [],
   "source": [
    "df = pd.read_csv(\"../../datasets/hepmass_l.csv\")\n",
    "xs = df[\"f0\"]\n",
    "s = scaleCheby(xs)"
   ]
  },
  {
   "cell_type": "code",
   "execution_count": 27,
   "metadata": {
    "collapsed": true
   },
   "outputs": [],
   "source": [
    "m1 = np.array([1.0, -0.376260058257404, -0.5159003770852825, 0.4995669708398453, 0.0035116609075931567, -0.1754729249161065, 0.055577149729426775, 0.031124058810784703, -0.03523320835463064, 0.010992501345933903, 0.007710836996234599, -0.0036627326819612866, -0.005318099336181368, 0.0036316292570204964, 1.334992584500994E-4, 2.0938460272834414E-4, -0.0023187987602778844, 0.0028581787716093518, -3.6408890642438617E-4, -0.0019682254384358723])\n",
    "m2 = np.array([np.mean(cbs[i](s)) for i in range(maxk)])\n",
    "m_values[\"hepmass\"] = (m1, m2)"
   ]
  },
  {
   "cell_type": "code",
   "execution_count": 28,
   "metadata": {
    "collapsed": true
   },
   "outputs": [],
   "source": [
    "datasets = [\"hepmass\", \"occupancy\"]\n",
    "linestyles = {\n",
    "    \"hepmass\": \"-\",\n",
    "    \"occupancy\": \"-.\",\n",
    "}"
   ]
  },
  {
   "cell_type": "code",
   "execution_count": 29,
   "metadata": {
    "scrolled": true
   },
   "outputs": [
    {
     "data": {
      "image/png": "[encoded data removed]",
      "text/plain": [
       "<matplotlib.figure.Figure at 0x10809b358>"
      ]
     },
     "metadata": {},
     "output_type": "display_data"
    }
   ],
   "source": [
    "f = plt.figure(figsize=(6,2.3))\n",
    "ax = f.gca()\n",
    "for di in range(len(datasets)):\n",
    "    dname = datasets[di]\n",
    "    m1,m2 = m_values[dname]\n",
    "    ax.semilogy(\n",
    "        np.abs((m1-m2)), \n",
    "        label=dname,\n",
    "        ls=linestyles[dname]\n",
    "    )\n",
    "    ax.set_xlim(0,maxk)\n",
    "    _ = ax.set_xticks(np.arange(0,maxk+1,5))\n",
    "    ax.set_ylabel(\"Precision Loss $\\Delta\\mu$\")\n",
    "    ax.set_xlabel(\"Number of Moments (k)\")\n",
    "#     ax.set_title(\"Chebyshev moment precision loss\")\n",
    "ax.legend(frameon=False)\n",
    "f.tight_layout()\n",
    "f.savefig(\"cheby_loss.pdf\")"
   ]
  },
  {
   "cell_type": "code",
   "execution_count": 33,
   "metadata": {},
   "outputs": [
    {
     "data": {
      "text/plain": [
       "1.5"
      ]
     },
     "execution_count": 33,
     "metadata": {},
     "output_type": "execute_result"
    }
   ],
   "source": [
    "amin = 400\n",
    "amax = 2000\n",
    "r = (amax - amin)/2\n",
    "c = (amax + amin)/2\n",
    "c/r"
   ]
  },
  {
   "cell_type": "code",
   "execution_count": 34,
   "metadata": {},
   "outputs": [
    {
     "data": {
      "text/plain": [
       "0.37952755905511815"
      ]
     },
     "execution_count": 34,
     "metadata": {},
     "output_type": "execute_result"
    }
   ],
   "source": [
    "amin = -1.97\n",
    "amax = 4.38\n",
    "r = (amax - amin)/2\n",
    "c = (amax + amin)/2\n",
    "c/r"
   ]
  },
  {
   "cell_type": "code",
   "execution_count": null,
   "metadata": {
    "collapsed": true
   },
   "outputs": [],
   "source": []
  }
 ],
 "metadata": {
  "kernelspec": {
   "display_name": "Python 3",
   "language": "python",
   "name": "python3"
  },
  "language_info": {
   "codemirror_mode": {
    "name": "ipython",
    "version": 3
   },
   "file_extension": ".py",
   "mimetype": "text/x-python",
   "name": "python",
   "nbconvert_exporter": "python",
   "pygments_lexer": "ipython3",
   "version": "3.6.5"
  }
 },
 "nbformat": 4,
 "nbformat_minor": 2
}
