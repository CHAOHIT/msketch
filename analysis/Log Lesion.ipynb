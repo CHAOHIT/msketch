{
 "cells": [
  {
   "cell_type": "code",
   "execution_count": 2,
   "metadata": {
    "collapsed": true
   },
   "outputs": [],
   "source": [
    "%matplotlib inline\n",
    "import numpy as np\n",
    "import math\n",
    "import matplotlib.pyplot as plt\n",
    "import pandas as pd"
   ]
  },
  {
   "cell_type": "code",
   "execution_count": 3,
   "metadata": {
    "collapsed": true
   },
   "outputs": [],
   "source": [
    "def get_error(sorted_data, x, p, is_int=False):\n",
    "    if is_int:\n",
    "        x = np.round(x)\n",
    "    n = len(sorted_data)\n",
    "    li = np.searchsorted(sorted_data, x, side=\"left\")\n",
    "    ri = np.searchsorted(sorted_data, x, side=\"right\")\n",
    "    qi = int(p * n)\n",
    "    if ri < qi:\n",
    "        return (qi-ri)*1.0/n\n",
    "    elif li > qi:\n",
    "        return (li-qi)*1.0/n\n",
    "    else:\n",
    "        return 0.0"
   ]
  },
  {
   "cell_type": "code",
   "execution_count": 4,
   "metadata": {
    "collapsed": true
   },
   "outputs": [],
   "source": [
    "colormap = {\n",
    "    \"cmoments_l\": \"C0\",\n",
    "    \"cmoments_nl\": \"C1\",\n",
    "}\n",
    "markers = {\n",
    "    \"cmoments_l\": \"x\",\n",
    "    \"cmoments_nl\": \"o\",\n",
    "}\n",
    "alg_display_name = {\n",
    "    \"cmoments_l\": \"With Log\",\n",
    "    \"cmoments_nl\": \"No Log\",\n",
    "}"
   ]
  },
  {
   "cell_type": "code",
   "execution_count": 5,
   "metadata": {},
   "outputs": [
    {
     "name": "stdout",
     "output_type": "stream",
     "text": [
      "milan\n",
      "exponential\n",
      "occupancy\n",
      "retail\n"
     ]
    }
   ],
   "source": [
    "datasets = [\"milan\", \"exponential\", \"occupancy\", \"retail\"]\n",
    "dataset_paths = {\n",
    "    \"milan\": (\"../../datasets/internet-mi-2013-11.csv\",\"internet\"),\n",
    "    \"exponential\": (\"../../datasets/exponential_10M.csv\",\"x\"),\n",
    "    \"occupancy\": (\"../../datasets/occupancy_2.csv\", \"CO2\"),\n",
    "    \"retail\": (\"../../datasets/retail_quantity_pos.csv\", \"Quantity\")\n",
    "}\n",
    "sorted_vals = {}\n",
    "for d in datasets:\n",
    "    print(d)\n",
    "    dpath, dcol = dataset_paths[d]\n",
    "    df = pd.read_csv(dpath)\n",
    "    sorted_vals[d] = np.sort(df[dcol])"
   ]
  },
  {
   "cell_type": "code",
   "execution_count": 7,
   "metadata": {
    "collapsed": true
   },
   "outputs": [],
   "source": [
    "dataset_int = {\n",
    "    \"milan\": False,\n",
    "    \"exponential\": False,\n",
    "    \"occupancy\": False,\n",
    "    \"retail\": True\n",
    "}"
   ]
  },
  {
   "cell_type": "code",
   "execution_count": 8,
   "metadata": {
    "collapsed": true
   },
   "outputs": [],
   "source": [
    "def process(df, sorted_data, is_int=False):\n",
    "    df[\"error\"] = df.apply(\n",
    "        lambda r: get_error(\n",
    "            sorted_data[r[\"dataset\"]], r[\"quantile_estimate\"], r[\"q\"],\n",
    "            is_int=dataset_int[r[\"dataset\"]]\n",
    "        ),\n",
    "        axis=1\n",
    "    )\n",
    "    return df"
   ]
  },
  {
   "cell_type": "code",
   "execution_count": 13,
   "metadata": {
    "collapsed": true
   },
   "outputs": [],
   "source": [
    "df = pd.read_csv(\"../javamsketch/results/log_lesion.csv\")\n",
    "dft = process(df, sorted_vals)"
   ]
  },
  {
   "cell_type": "code",
   "execution_count": 14,
   "metadata": {
    "collapsed": true
   },
   "outputs": [],
   "source": [
    "dfg = dft.groupby([\"dataset\",\"sketch\",\"size_param\"]).mean()"
   ]
  },
  {
   "cell_type": "code",
   "execution_count": 15,
   "metadata": {
    "collapsed": true
   },
   "outputs": [],
   "source": [
    "m_datasets = [\"milan\", \"retail\", \"occupancy\"]\n",
    "sketches = [\"cmoments_l\", \"cmoments_nl\"]"
   ]
  },
  {
   "cell_type": "code",
   "execution_count": 16,
   "metadata": {},
   "outputs": [
    {
     "data": {
      "image/png": "[encoded data removed]",
      "text/plain": [
       "<matplotlib.figure.Figure at 0x1100bb128>"
      ]
     },
     "metadata": {},
     "output_type": "display_data"
    }
   ],
   "source": [
    "f, axs = plt.subplots(1,len(m_datasets), figsize=(6,2.3), sharey=True)\n",
    "for di in range(len(m_datasets)):\n",
    "    dname = m_datasets[di]\n",
    "    if len(m_datasets) > 1:\n",
    "        ax = axs[di]\n",
    "    else:\n",
    "        ax = axs\n",
    "    lines = []\n",
    "    labels = []\n",
    "    for alg in sketches:\n",
    "        vals = dfg.loc[dname, alg]\n",
    "        errors = vals[\"error\"]\n",
    "        l, = ax.semilogy(\n",
    "            vals.index-1,\n",
    "            errors, \n",
    "            label=alg_display_name[alg],\n",
    "            marker=markers[alg],\n",
    "            color=colormap[alg],\n",
    "            markersize=5,\n",
    "            ls=\"dotted\",\n",
    "            lw=1\n",
    "        )\n",
    "        lines.append(l)\n",
    "        labels.append(alg_display_name[alg])\n",
    "\n",
    "    ax.set_title(dname)\n",
    "    ax.set_ylim(0.005, .25)\n",
    "    if di == 0:\n",
    "        ax.set_ylabel(\"Mean Error $\\epsilon_{avg}$\")\n",
    "    ax.set_xlabel(\"Number of Moments\")\n",
    "    ax.yaxis.grid(True)\n",
    "\n",
    "ax.legend(frameon=False)\n",
    "# lgd = f.legend(\n",
    "#     lines, labels,\n",
    "#     bbox_to_anchor=(0.05, 1.00, 1., .102), ncol=2, loc=2\n",
    "# )\n",
    "f.tight_layout()\n",
    "f.savefig(\"log_lesion.pdf\", bbox_inches='tight')"
   ]
  },
  {
   "cell_type": "code",
   "execution_count": null,
   "metadata": {
    "collapsed": true
   },
   "outputs": [],
   "source": []
  }
 ],
 "metadata": {
  "kernelspec": {
   "display_name": "Python 3",
   "language": "python",
   "name": "python3"
  },
  "language_info": {
   "codemirror_mode": {
    "name": "ipython",
    "version": 3
   },
   "file_extension": ".py",
   "mimetype": "text/x-python",
   "name": "python",
   "nbconvert_exporter": "python",
   "pygments_lexer": "ipython3",
   "version": "3.6.2"
  }
 },
 "nbformat": 4,
 "nbformat_minor": 2
}
