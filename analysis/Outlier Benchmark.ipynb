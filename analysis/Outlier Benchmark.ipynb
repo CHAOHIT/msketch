{
 "cells": [
  {
   "cell_type": "code",
   "execution_count": 1,
   "metadata": {
    "collapsed": true
   },
   "outputs": [],
   "source": [
    "%matplotlib inline\n",
    "import pandas as pd\n",
    "import numpy as np\n",
    "import matplotlib.pyplot as plt"
   ]
  },
  {
   "cell_type": "code",
   "execution_count": 113,
   "metadata": {
    "collapsed": true
   },
   "outputs": [],
   "source": [
    "colormap = {\n",
    "    \"cmoments\": \"C0\",\n",
    "    \"tdigest\": \"C1\",\n",
    "    \"yahoo\": \"C2\",\n",
    "    \"spark_gk\": \"C3\",\n",
    "    (\"histogram\", 20.0): \"C4\",\n",
    "    (\"histogram\", 100.0): \"C7\",\n",
    "    \"sampling\": \"C5\",\n",
    "    \"approx_histogram\": \"C6\",\n",
    "}\n",
    "markers = {\n",
    "    \"cmoments\": \"x\",\n",
    "    \"tdigest\": \"^\",\n",
    "    \"yahoo\": \"s\",\n",
    "    \"spark_gk\": \"+\",\n",
    "    (\"histogram\", 20.0): \"D\",\n",
    "    (\"histogram\", 100.0): \">\",\n",
    "    \"sampling\": \"o\",\n",
    "    \"approx_histogram\": \"<\"\n",
    "}\n",
    "alg_display_name = {\n",
    "    \"cmoments\": \"M-Sketch\",\n",
    "    \"tdigest\": \"T-Digest\",\n",
    "    \"yahoo\": \"Merge12\",\n",
    "    \"spark_gk\": \"GK\",\n",
    "    \"histogram\": \"EW-Hist\",\n",
    "    \"sampling\": \"Sampling\",\n",
    "    \"approx_histogram\": \"S-Hist\",\n",
    "}"
   ]
  },
  {
   "cell_type": "code",
   "execution_count": 2,
   "metadata": {
    "collapsed": true
   },
   "outputs": [],
   "source": [
    "def get_error(sorted_data, x, p, is_int=False):\n",
    "    if is_int:\n",
    "        x = np.round(x)\n",
    "    n = len(sorted_data)\n",
    "    li = np.searchsorted(sorted_data, x, side=\"left\")\n",
    "    ri = np.searchsorted(sorted_data, x, side=\"right\")\n",
    "    qi = int(p * n)\n",
    "    if ri < qi:\n",
    "        return (qi-ri)*1.0/n\n",
    "    elif li > qi:\n",
    "        return (li-qi)*1.0/n\n",
    "    else:\n",
    "        return 0.0"
   ]
  },
  {
   "cell_type": "code",
   "execution_count": 8,
   "metadata": {
    "collapsed": true
   },
   "outputs": [],
   "source": [
    "def add_outliers(xs, distance, frac, scaling=.1):\n",
    "    n_outliers = int(frac * len(xs))\n",
    "    oxs = (xs * scaling + distance)[:n_outliers]\n",
    "    return np.concatenate([xs, oxs])"
   ]
  },
  {
   "cell_type": "code",
   "execution_count": 70,
   "metadata": {
    "collapsed": true
   },
   "outputs": [],
   "source": [
    "def process2(df, smap, is_int=False):\n",
    "    df[\"error\"] = df.apply(\n",
    "        lambda r: get_error(\n",
    "            smap[r[\"distance\"]], r[\"quantile_estimate\"], r[\"q\"], is_int\n",
    "        ),\n",
    "        axis=1\n",
    "    )\n",
    "    return df"
   ]
  },
  {
   "cell_type": "code",
   "execution_count": 22,
   "metadata": {
    "collapsed": true
   },
   "outputs": [],
   "source": [
    "df_data = pd.read_csv(\"../../datasets/gauss_10M.csv\")\n",
    "x_vals = df_data[\"x\"]\n",
    "s_vals = np.sort(x_vals)"
   ]
  },
  {
   "cell_type": "code",
   "execution_count": 78,
   "metadata": {
    "collapsed": true
   },
   "outputs": [],
   "source": [
    "df = pd.read_csv(\"../javamsketch/results/outlier_bench.csv\")"
   ]
  },
  {
   "cell_type": "code",
   "execution_count": 79,
   "metadata": {},
   "outputs": [],
   "source": [
    "distances = np.sort(df.distance.unique())"
   ]
  },
  {
   "cell_type": "code",
   "execution_count": 80,
   "metadata": {
    "collapsed": true
   },
   "outputs": [],
   "source": [
    "s_val_map = {}\n",
    "for di in range(len(distances)):\n",
    "    cur_distance = distances[di]\n",
    "    s_val_map[cur_distance] = np.sort(add_outliers(\n",
    "        x_vals,\n",
    "        cur_distance, \n",
    "        df.fraction.iloc[0], \n",
    "        scaling=df.scaleFactor.iloc[0]\n",
    "    ))"
   ]
  },
  {
   "cell_type": "code",
   "execution_count": 81,
   "metadata": {
    "collapsed": true
   },
   "outputs": [],
   "source": [
    "df = process2(df, s_val_map)"
   ]
  },
  {
   "cell_type": "code",
   "execution_count": 97,
   "metadata": {
    "collapsed": true
   },
   "outputs": [],
   "source": [
    "sketches = [\n",
    "    (\"cmoments\", 11.0), \n",
    "    (\"histogram\", 20.0),\n",
    "    (\"histogram\", 100.0),\n",
    "    (\"yahoo\", 32.0)\n",
    "]"
   ]
  },
  {
   "cell_type": "code",
   "execution_count": 89,
   "metadata": {
    "collapsed": true
   },
   "outputs": [],
   "source": [
    "dfg = df.groupby([\"sketch\", \"size_param\", \"distance\"]).mean()"
   ]
  },
  {
   "cell_type": "code",
   "execution_count": 135,
   "metadata": {},
   "outputs": [
    {
     "data": {
      "image/png": "[encoded data removed]",
      "text/plain": [
       "<matplotlib.figure.Figure at 0x10e6b6f60>"
      ]
     },
     "metadata": {},
     "output_type": "display_data"
    }
   ],
   "source": [
    "f = plt.figure(figsize=(6,2.3))\n",
    "ax = f.gca()\n",
    "\n",
    "lines = []\n",
    "labels = []\n",
    "for alg,size in sketches:\n",
    "    c_df = dfg.loc[alg,size]\n",
    "    cur_label = \"{}@{}\".format(alg_display_name[alg], int(size))\n",
    "    if alg == \"histogram\":\n",
    "        cur_color = colormap[(alg, size)]\n",
    "        cur_marker = markers[(alg, size)]\n",
    "    else:\n",
    "        cur_color = colormap[alg]\n",
    "        cur_marker = markers[alg]\n",
    "    l, = ax.semilogx(\n",
    "        c_df.index,\n",
    "        c_df[\"error\"], \n",
    "        label=cur_label,\n",
    "        marker=cur_marker,\n",
    "        color=cur_color,\n",
    "        markersize=6,\n",
    "        ls=\"dotted\",\n",
    "        lw=1\n",
    "    )\n",
    "    lines.append(l)\n",
    "    labels.append(cur_label)\n",
    "\n",
    "ax.legend(frameon=False)\n",
    "# lgd = f.legend(\n",
    "#     lines, labels,\n",
    "#     bbox_to_anchor=(0.05, 1.15, 1., .102), ncol=4, loc=2\n",
    "# )\n",
    "f.tight_layout()\n",
    "# ax.set_xlim(5, 1000)\n",
    "ax.set_xlabel(\"Outlier Magnitude\")\n",
    "ax.set_ylabel(\"Mean Error $\\epsilon_{avg}$\")\n",
    "# ax.set_title(\"Sensitivity to outliers on Gaussian data\")\n",
    "f.savefig(\"robust_outlier.pdf\", bbox_inches='tight')"
   ]
  },
  {
   "cell_type": "code",
   "execution_count": null,
   "metadata": {
    "collapsed": true
   },
   "outputs": [],
   "source": []
  }
 ],
 "metadata": {
  "kernelspec": {
   "display_name": "Python 3",
   "language": "python",
   "name": "python3"
  },
  "language_info": {
   "codemirror_mode": {
    "name": "ipython",
    "version": 3
   },
   "file_extension": ".py",
   "mimetype": "text/x-python",
   "name": "python",
   "nbconvert_exporter": "python",
   "pygments_lexer": "ipython3",
   "version": "3.6.2"
  }
 },
 "nbformat": 4,
 "nbformat_minor": 2
}
