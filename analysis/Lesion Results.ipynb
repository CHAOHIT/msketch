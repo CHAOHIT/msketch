{
 "cells": [
  {
   "cell_type": "code",
   "execution_count": 1,
   "metadata": {
    "collapsed": true
   },
   "outputs": [],
   "source": [
    "%matplotlib inline\n",
    "import cvxpy as cvx\n",
    "import numpy as np\n",
    "import math\n",
    "import matplotlib.pyplot as plt\n",
    "import pandas as pd"
   ]
  },
  {
   "cell_type": "code",
   "execution_count": 2,
   "metadata": {
    "collapsed": true
   },
   "outputs": [],
   "source": [
    "def human_format(x):\n",
    "    sigpart = 0\n",
    "    suffix = \"\"\n",
    "    if x < .1:\n",
    "        return \"{:.0e}\".format(x)\n",
    "    if x < 1000:\n",
    "        return \"{:.3g}\".format(x)\n",
    "    elif x < 1000000:\n",
    "        sigpart = x / 1000\n",
    "        suffix = \"k\"\n",
    "    elif x < 1000000000:\n",
    "        sigpart = x / 1000000\n",
    "        suffix = \"M\"\n",
    "    else:\n",
    "        sigpart = x / 1000000000\n",
    "        suffix = \"B\"\n",
    "    return \"{:.3g}{}\".format(sigpart, suffix)"
   ]
  },
  {
   "cell_type": "code",
   "execution_count": 3,
   "metadata": {
    "collapsed": true
   },
   "outputs": [],
   "source": [
    "def get_error(sorted_data, x, p, is_int=False):\n",
    "    if is_int:\n",
    "        x = np.round(x)\n",
    "    n = len(sorted_data)\n",
    "    li = np.searchsorted(sorted_data, x, side=\"left\")\n",
    "    ri = np.searchsorted(sorted_data, x, side=\"right\")\n",
    "    qi = int(p * n)\n",
    "    if ri < qi:\n",
    "        return (qi-ri)*1.0/n\n",
    "    elif li > qi:\n",
    "        return (li-qi)*1.0/n\n",
    "    else:\n",
    "        return 0.0"
   ]
  },
  {
   "cell_type": "code",
   "execution_count": 13,
   "metadata": {},
   "outputs": [
    {
     "name": "stdout",
     "output_type": "stream",
     "text": [
      "milan\n",
      "hepmass\n",
      "exponential\n"
     ]
    }
   ],
   "source": [
    "datasets = [\"milan\", \"hepmass\", \"exponential\"]\n",
    "dataset_paths = {\n",
    "    \"milan\": (\"../../datasets/internet-mi-2013-11.csv\",\"internet\"),\n",
    "    \"exponential\": (\"../../datasets/exponential_10M.csv\",\"x\"),\n",
    "    \"hepmass\": (\"../../datasets/hepmass_l.csv\",\"f0\"),\n",
    "}\n",
    "sorted_vals = {}\n",
    "for d in datasets:\n",
    "    print(d)\n",
    "    dpath, dcol = dataset_paths[d]\n",
    "    df = pd.read_csv(dpath)\n",
    "    sorted_vals[d] = np.sort(df[dcol])"
   ]
  },
  {
   "cell_type": "code",
   "execution_count": 15,
   "metadata": {
    "collapsed": true
   },
   "outputs": [],
   "source": [
    "def process(df, sorted_data, is_int=False):\n",
    "    df[\"error\"] = df.apply(\n",
    "        lambda r: get_error(\n",
    "            sorted_data[r[\"dataset\"]], r[\"quantile_estimate\"], r[\"q\"],\n",
    "            is_int=is_int\n",
    "        ),\n",
    "        axis=1\n",
    "    )\n",
    "    return df"
   ]
  },
  {
   "cell_type": "code",
   "execution_count": 29,
   "metadata": {},
   "outputs": [],
   "source": [
    "df1 = pd.read_csv(\"../cvxestimate/lesion_results.csv\")\n",
    "df2 = pd.read_csv(\"../cvxestimate/lesion_solve.csv\")\n",
    "df = pd.concat([df1, df2]).reset_index()\n",
    "dft = process(df, sorted_vals)"
   ]
  },
  {
   "cell_type": "code",
   "execution_count": 30,
   "metadata": {
    "collapsed": true
   },
   "outputs": [],
   "source": [
    "dfg = dft.groupby([\"dataset\",\"sketch\"]).mean()"
   ]
  },
  {
   "cell_type": "code",
   "execution_count": 50,
   "metadata": {
    "collapsed": true
   },
   "outputs": [],
   "source": [
    "sketches = [\"gaussian\", \"mnat\", \"lp\", \"mindensity\", \"maxent\", \"newton\", \"clenshaw\"]\n",
    "sketch_display_names = [\n",
    "    \"gaussian\", \n",
    "    \"mnat\", \n",
    "    \"svd\", \n",
    "    \"cvx-min\", \n",
    "    \"cvx-maxent\", \n",
    "    \"newton\", \n",
    "    \"opt\"\n",
    "]"
   ]
  },
  {
   "cell_type": "code",
   "execution_count": 52,
   "metadata": {
    "collapsed": true
   },
   "outputs": [],
   "source": [
    "def gen_bar_plot(ax, xlabels, ys, log=False, label=False):\n",
    "    n = len(ys)\n",
    "    xlocs = np.arange(0, n)\n",
    "    ax.bar(\n",
    "        xlocs,\n",
    "        height=ys,\n",
    "        log=log,\n",
    "    )\n",
    "    if (label):\n",
    "        rects = ax.patches\n",
    "        for rect, label in zip(rects, ys):\n",
    "            height = rect.get_height()\n",
    "            ax.text(\n",
    "                rect.get_x() + rect.get_width()/2, \n",
    "                height,\n",
    "                human_format(label),\n",
    "                ha='center', va='bottom', size = 8,\n",
    "            )\n",
    "    ax.set_xticks(xlocs)\n",
    "    ax.set_xticklabels(xlabels, rotation=-55)"
   ]
  },
  {
   "cell_type": "code",
   "execution_count": 53,
   "metadata": {
    "collapsed": true
   },
   "outputs": [],
   "source": [
    "l_datasets = [\"milan\", \"hepmass\"]"
   ]
  },
  {
   "cell_type": "code",
   "execution_count": 54,
   "metadata": {},
   "outputs": [
    {
     "data": {
      "image/png": "[encoded data removed]",
      "text/plain": [
       "<matplotlib.figure.Figure at 0x10eff9b00>"
      ]
     },
     "metadata": {},
     "output_type": "display_data"
    }
   ],
   "source": [
    "fig, axs = plt.subplots(figsize=(6,4), nrows=2, ncols=2, sharex=True, sharey=\"row\", dpi=100)\n",
    "for di in range(len(l_datasets)):\n",
    "    dname = l_datasets[di]\n",
    "    dtemp = dfg.loc[dname]\n",
    "    \n",
    "    ax = axs[0][di]\n",
    "    ys = []\n",
    "    for cursketch in sketches:\n",
    "        ys.append(dtemp.loc[cursketch][\"error\"])\n",
    "    ys = np.array(ys)\n",
    "    gen_bar_plot(ax, sketch_display_names, np.array(ys)*100, log=True, label=True)\n",
    "    ax.set_ylim(.01, 20)\n",
    "    if di == 0:\n",
    "        ax.set_ylabel(\"$\\epsilon_{avg}$ (%)\")\n",
    "    ax.yaxis.grid(True)\n",
    "    ax.set_title(dname)\n",
    "    \n",
    "    ax = axs[1][di]\n",
    "    ys = []\n",
    "    for cursketch in sketches:\n",
    "        ys.append(dtemp.loc[cursketch][\"query_time\"])\n",
    "    ys = np.array(ys)\n",
    "    gen_bar_plot(ax, sketch_display_names, np.array(ys)*1e-6, log=True, label=True)\n",
    "    ax.set_ylim(.5e-3, 2e3)\n",
    "    if di == 0:\n",
    "        ax.set_ylabel(\"$t_{est}$ (ms)\")\n",
    "    ax.yaxis.grid(True)\n",
    "#     ax.set_title(dname)\n",
    "\n",
    "fig.tight_layout()\n",
    "fig.savefig(\"lesion.pdf\")"
   ]
  },
  {
   "cell_type": "code",
   "execution_count": null,
   "metadata": {
    "collapsed": true
   },
   "outputs": [],
   "source": []
  }
 ],
 "metadata": {
  "kernelspec": {
   "display_name": "Python 3",
   "language": "python",
   "name": "python3"
  },
  "language_info": {
   "codemirror_mode": {
    "name": "ipython",
    "version": 3
   },
   "file_extension": ".py",
   "mimetype": "text/x-python",
   "name": "python",
   "nbconvert_exporter": "python",
   "pygments_lexer": "ipython3",
   "version": "3.6.2"
  }
 },
 "nbformat": 4,
 "nbformat_minor": 2
}
