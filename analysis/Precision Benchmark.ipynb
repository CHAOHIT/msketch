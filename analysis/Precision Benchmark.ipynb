{
 "cells": [
  {
   "cell_type": "code",
   "execution_count": 105,
   "metadata": {
    "collapsed": true
   },
   "outputs": [],
   "source": [
    "%matplotlib inline\n",
    "import cvxpy as cvx\n",
    "import numpy as np\n",
    "import math\n",
    "import matplotlib.pyplot as plt\n",
    "import pandas as pd\n",
    "import itertools"
   ]
  },
  {
   "cell_type": "code",
   "execution_count": 106,
   "metadata": {
    "collapsed": true
   },
   "outputs": [],
   "source": [
    "def get_error(sorted_data, x, p, is_int=False):\n",
    "    if is_int:\n",
    "        x = round(x)\n",
    "    n = len(sorted_data)\n",
    "    li = np.searchsorted(sorted_data, x, side=\"left\")\n",
    "    ri = np.searchsorted(sorted_data, x, side=\"right\")\n",
    "    qi = int(p * n)\n",
    "    if ri < qi:\n",
    "        return (qi-ri)*1.0/n\n",
    "    elif li > qi:\n",
    "        return (li-qi)*1.0/n\n",
    "    else:\n",
    "        return 0.0"
   ]
  },
  {
   "cell_type": "code",
   "execution_count": 107,
   "metadata": {
    "collapsed": true
   },
   "outputs": [],
   "source": [
    "precisions = [64, 48, 32, 24, 20, 16, 12, 8]"
   ]
  },
  {
   "cell_type": "code",
   "execution_count": 108,
   "metadata": {
    "collapsed": true
   },
   "outputs": [],
   "source": [
    "def gen_plots(df, sorted_data, name):\n",
    "    dft = df.groupby(\n",
    "        [\"precision\", \"size_param\", \"q\"]\n",
    "    )[\"quantile_estimate\", \"train_time\", \"query_time\", \"space\", \"bound_size\"].mean()\n",
    "    dft = dft.reset_index()\n",
    "    dft[\"error\"] = dft.apply(\n",
    "        lambda r: get_error(\n",
    "            sorted_data, r[\"quantile_estimate\"], r[\"q\"],\n",
    "            is_int=False\n",
    "        ),\n",
    "        axis=1\n",
    "    )\n",
    "    dft[\"rerror\"] = dft[\"error\"] / np.minimum(dft[\"q\"],(1-dft[\"q\"]))\n",
    "    dfg = dft.groupby([\n",
    "        \"precision\", \"size_param\"\n",
    "    ])[\"train_time\", \"query_time\", \"space\", \"error\", \"rerror\", \"bound_size\"].mean()\n",
    "    dfs = dfg.reset_index().sort_values([\"precision\"])\n",
    "    \n",
    "#     plt.figure()\n",
    "#     for precision in precisions:\n",
    "#         c_df = dfs[dfs[\"precision\"] == precision]\n",
    "#         plt.loglog(\n",
    "#             c_df[\"space\"], \n",
    "#             (c_df[\"query_time\"])*1e-9,\n",
    "#             label=precision,\n",
    "#             marker=\".\"\n",
    "#         )\n",
    "#     plt.xlabel(\"Size (bytes)\")\n",
    "#     plt.ylabel(\"Query Time (s)\")\n",
    "#     plt.legend(loc=4)\n",
    "#     plt.title(name)\n",
    "#     plt.savefig(\"{}_query_time.pdf\".format(name))\n",
    "    \n",
    "#     n = len(orig_data)\n",
    "#     plt.figure()\n",
    "#     for precision in precisions:\n",
    "#         c_df = dfs[dfs[\"precision\"] == precision]\n",
    "#         plt.loglog(\n",
    "#             c_df[\"space\"], \n",
    "#             (c_df[\"train_time\"])/n,\n",
    "#             label=precision,\n",
    "#     #         lw=0,\n",
    "#             marker=\".\"\n",
    "#         )\n",
    "#     plt.xlabel(\"Size (bytes)\")\n",
    "#     plt.ylabel(\"Update Time (ns)\")\n",
    "#     plt.legend(loc=4)\n",
    "#     plt.title(name)\n",
    "#     plt.savefig(\"{}_update_time.pdf\".format(name))\n",
    "    \n",
    "#     plt.figure()\n",
    "#     for precision in precisions:\n",
    "#         c_df = dfs[dfs[\"precision\"] == precision]\n",
    "#         plt.loglog(\n",
    "#             c_df[\"space\"],\n",
    "#             c_df[\"error\"], \n",
    "#             label=precision,\n",
    "#             marker=\".\"\n",
    "#         )\n",
    "#     plt.xlabel(\"Size (Bytes)\")\n",
    "#     plt.ylabel(\"Avg Error\")\n",
    "#     plt.legend()\n",
    "#     plt.title(name)\n",
    "#     plt.savefig(\"{}_error.pdf\".format(name))\n",
    "\n",
    "    plt.figure()\n",
    "    for size in dfs[\"size_param\"].unique():\n",
    "        c_df = dfs[dfs[\"size_param\"] == size]\n",
    "        plt.plot(\n",
    "            c_df[\"precision\"],\n",
    "            c_df[\"error\"], \n",
    "            label=size,\n",
    "            marker=\".\"\n",
    "        )\n",
    "    plt.yscale('log')\n",
    "    plt.xlabel(\"Precision (bits per value)\")\n",
    "    plt.ylabel(\"Avg Error\")\n",
    "    plt.legend()\n",
    "    plt.title(name)\n",
    "    \n",
    "#     plt.figure()\n",
    "#     for precision in precisions:\n",
    "#         c_df = dfs[dfs[\"precision\"] == precision]\n",
    "#         plt.loglog(\n",
    "#             c_df[\"space\"],\n",
    "#             c_df[\"bound_size\"], \n",
    "#             label=precision,\n",
    "#             marker=\".\"\n",
    "#         )\n",
    "#     plt.xlabel(\"Size (Bytes)\")\n",
    "#     plt.ylabel(\"Avg Bound Size\")\n",
    "#     plt.legend()\n",
    "#     plt.title(name)\n",
    "#     plt.savefig(\"{}_bound.pdf\".format(name))\n",
    "    \n",
    "    return dft"
   ]
  },
  {
   "cell_type": "code",
   "execution_count": 109,
   "metadata": {
    "collapsed": true
   },
   "outputs": [],
   "source": [
    "orig_df_milan = pd.read_csv(\"../sampledata/internet-mi-2013-11-01_09.csv\")\n",
    "orig_data_milan = orig_df_milan[\"internet\"]\n",
    "sorted_data_milan = np.sort(orig_data_milan)"
   ]
  },
  {
   "cell_type": "code",
   "execution_count": 189,
   "metadata": {
    "collapsed": true
   },
   "outputs": [],
   "source": [
    "orig_df_milan_full = pd.read_csv(\"../sampledata/internet-mi-2013-11.csv\")\n",
    "orig_data_milan_full = orig_df_milan_full[\"internet\"]\n",
    "sorted_data_milan_full = np.sort(orig_data_milan_full)"
   ]
  },
  {
   "cell_type": "code",
   "execution_count": 110,
   "metadata": {
    "collapsed": true
   },
   "outputs": [],
   "source": [
    "# df = pd.read_csv(\"../javamsketch/results/precision_shuttle.csv\")\n",
    "# orig_data = pd.read_csv(\"../sampledata/shuttle.csv\", usecols=[0])[\"0\"]\n",
    "# sorted_data = np.sort(orig_data)\n",
    "# dft = gen_plots(df, sorted_data, \"shuttle\")"
   ]
  },
  {
   "cell_type": "code",
   "execution_count": 111,
   "metadata": {
    "collapsed": true
   },
   "outputs": [],
   "source": [
    "orig_data_exp = pd.read_csv(\"../sampledata/exponential_10M.csv\", usecols=[0])[\"x\"]\n",
    "sorted_data_exp = np.sort(orig_data_exp)"
   ]
  },
  {
   "cell_type": "code",
   "execution_count": 191,
   "metadata": {},
   "outputs": [],
   "source": [
    "orig_data_hepmass = pd.read_csv(\"../sampledata/hepmass_l.csv\", usecols=[0]).iloc[:,0]\n",
    "sorted_data_hepmass = np.sort(orig_data_hepmass)"
   ]
  },
  {
   "cell_type": "code",
   "execution_count": 143,
   "metadata": {
    "collapsed": true
   },
   "outputs": [],
   "source": [
    "colormap = {\n",
    "    3.0: \"C0\",\n",
    "    7.0: \"C1\",\n",
    "    11.0: \"C2\",\n",
    "    15.0: \"C3\",\n",
    "#     11.0: \"C4\",\n",
    "#     13.0: \"C5\",\n",
    "#     15.0: \"C6\"\n",
    "}\n",
    "markers = {\n",
    "    3.0: \"x\",\n",
    "    7.0: \"^\",\n",
    "    11.0: \"s\",\n",
    "    15.0: \"+\",\n",
    "#     11.0: \"D\",\n",
    "#     13.0: \"o\",\n",
    "#     15.0: \"<\"\n",
    "}"
   ]
  },
  {
   "cell_type": "code",
   "execution_count": 144,
   "metadata": {
    "collapsed": true
   },
   "outputs": [],
   "source": [
    "def flip(items, ncol):\n",
    "    return itertools.chain(*[items[i::ncol] for i in range(ncol)])"
   ]
  },
  {
   "cell_type": "code",
   "execution_count": 145,
   "metadata": {
    "collapsed": true
   },
   "outputs": [],
   "source": [
    "size_params = [3.0, 7.0, 11.0, 15.0]"
   ]
  },
  {
   "cell_type": "code",
   "execution_count": 199,
   "metadata": {
    "collapsed": true
   },
   "outputs": [],
   "source": [
    "def gen_plot(df, sorted_data, name):\n",
    "    f, axs = plt.subplots(1,2, figsize=(6,2.3), sharey=True)\n",
    "    \n",
    "    for i in range(2):\n",
    "        dft = df[i].groupby(\n",
    "            [\"precision\", \"size_param\", \"q\"]\n",
    "        )[\"quantile_estimate\", \"train_time\", \"query_time\", \"space\", \"bound_size\"].mean()\n",
    "        dft = dft.reset_index()\n",
    "        dft[\"error\"] = dft.apply(\n",
    "            lambda r: get_error(\n",
    "                sorted_data[i], r[\"quantile_estimate\"], r[\"q\"],\n",
    "                is_int=False\n",
    "            ),\n",
    "            axis=1\n",
    "        )\n",
    "        dft[\"rerror\"] = dft[\"error\"] / np.minimum(dft[\"q\"],(1-dft[\"q\"]))\n",
    "        dfg = dft.groupby([\n",
    "            \"precision\", \"size_param\"\n",
    "        ])[\"train_time\", \"query_time\", \"space\", \"error\", \"rerror\", \"bound_size\"].mean()\n",
    "        dfs = dfg.reset_index().sort_values([\"precision\"])\n",
    "    \n",
    "        ax = axs[i]\n",
    "        lines = []\n",
    "        labels = []\n",
    "#         for size in dfs[\"size_param\"].unique():\n",
    "        for size in size_params:\n",
    "            c_df = dfs[dfs[\"size_param\"] == size]\n",
    "            l, = ax.plot(\n",
    "                c_df[\"precision\"],\n",
    "                c_df[\"error\"], \n",
    "                label=\"k = \" + str(int(size)-1),\n",
    "                marker=markers[size],\n",
    "                color=colormap[size],\n",
    "                markersize=5,\n",
    "                ls=\"dotted\",\n",
    "                lw=1\n",
    "            )\n",
    "            lines.append(l)\n",
    "            labels.append(\"k = \" + str(int(size)-1))\n",
    "        ax.set_yscale('log')\n",
    "        ax.set_xlabel(\"Precision (bits per value)\")\n",
    "        if i == 0:\n",
    "            ax.set_ylabel(\"Avg Error\")\n",
    "        ax.set_title(name[i])\n",
    "        ax.yaxis.grid()\n",
    "    \n",
    "    ax.legend(frameon=False)\n",
    "#     lgd = f.legend(\n",
    "#         flip(lines, 4), flip(labels, 4),\n",
    "#         bbox_to_anchor=(0.16, 0.97, 1., .102), ncol=4, loc=2, frameon=False\n",
    "#     )\n",
    "    f.tight_layout()\n",
    "#     plt.savefig(\"low_precision.pdf\", bbox_extra_artists=(lgd,), bbox_inches='tight')\n",
    "    plt.savefig(\"low_precision.pdf\", bbox_inches='tight')"
   ]
  },
  {
   "cell_type": "code",
   "execution_count": 166,
   "metadata": {},
   "outputs": [],
   "source": [
    "def preprocess(df_milan, df_hepmass):\n",
    "    df_milan = df_milan[(df_milan[\"size_param\"] != 15.0) | (df_milan[\"precision\"] != 8.0)]\n",
    "    df_hepmass = df_hepmass[(df_hepmass[\"size_param\"] != 15.0) | (df_hepmass[\"precision\"] != 8.0)]\n",
    "    df_hepmass = df_hepmass[(df_hepmass[\"size_param\"] != 11.0) | (df_hepmass[\"precision\"] != 8.0)]\n",
    "    df_hepmass = df_hepmass[(df_hepmass[\"size_param\"] != 7.0) | (df_hepmass[\"precision\"] != 8.0)]\n",
    "    return df_milan, df_hepmass"
   ]
  },
  {
   "cell_type": "code",
   "execution_count": 174,
   "metadata": {},
   "outputs": [
    {
     "data": {
      "image/png": "[encoded data removed]",
      "text/plain": [
       "<matplotlib.figure.Figure at 0x1078e4470>"
      ]
     },
     "metadata": {},
     "output_type": "display_data"
    }
   ],
   "source": [
    "df_milan = pd.read_csv(\"../javamsketch/results/precision_milan.csv\")\n",
    "# df_exp = pd.read_csv(\"../javamsketch/results/precision_exp.csv\")\n",
    "df_hepmass = pd.read_csv(\"../javamsketch/results/precision_hepmass.csv\")\n",
    "\n",
    "df_milan, df_hepmass = preprocess(df_milan, df_hepmass)\n",
    "_ = gen_plot([df_milan, df_hepmass], [sorted_data_milan, sorted_data_hepmass], [\"milan\", \"hepmass\"])"
   ]
  },
  {
   "cell_type": "code",
   "execution_count": 190,
   "metadata": {},
   "outputs": [
    {
     "data": {
      "image/png": "[encoded data removed]",
      "text/plain": [
       "<matplotlib.figure.Figure at 0x107976978>"
      ]
     },
     "metadata": {},
     "output_type": "display_data"
    }
   ],
   "source": [
    "df_milan = pd.read_csv(\"../javamsketch/results/precision_milan.csv\")\n",
    "df_milan_merge = pd.read_csv(\"../javamsketch/results/precision_merge_milan.csv\")\n",
    "_ = gen_plot([df_milan, df_milan_merge], [sorted_data_milan, sorted_data_milan_full], [\"milan\", \"milan merge\"])"
   ]
  },
  {
   "cell_type": "code",
   "execution_count": 200,
   "metadata": {},
   "outputs": [
    {
     "data": {
      "image/png": "[encoded data removed]",
      "text/plain": [
       "<matplotlib.figure.Figure at 0x107ac7518>"
      ]
     },
     "metadata": {},
     "output_type": "display_data"
    }
   ],
   "source": [
    "df_milan_merge = pd.read_csv(\"../javamsketch/results/precision_merge_milan.csv\")\n",
    "df_hepmass_merge = pd.read_csv(\"../javamsketch/results/precision_merge_hepmass.csv\")\n",
    "_ = gen_plot([df_milan_merge, df_hepmass_merge], [sorted_data_milan_full, sorted_data_hepmass], [\"milan\", \"hepmass\"])"
   ]
  },
  {
   "cell_type": "code",
   "execution_count": null,
   "metadata": {
    "collapsed": true
   },
   "outputs": [],
   "source": []
  }
 ],
 "metadata": {
  "kernelspec": {
   "display_name": "Python 3",
   "language": "python",
   "name": "python3"
  },
  "language_info": {
   "codemirror_mode": {
    "name": "ipython",
    "version": 3
   },
   "file_extension": ".py",
   "mimetype": "text/x-python",
   "name": "python",
   "nbconvert_exporter": "python",
   "pygments_lexer": "ipython3",
   "version": "3.6.1"
  }
 },
 "nbformat": 4,
 "nbformat_minor": 2
}
