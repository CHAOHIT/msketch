{
 "cells": [
  {
   "cell_type": "code",
   "execution_count": 28,
   "metadata": {
    "collapsed": true
   },
   "outputs": [],
   "source": [
    "%matplotlib inline\n",
    "import cvxpy as cvx\n",
    "import numpy as np\n",
    "import math\n",
    "import matplotlib.pyplot as plt\n",
    "import pandas as pd\n",
    "import itertools"
   ]
  },
  {
   "cell_type": "code",
   "execution_count": 29,
   "metadata": {
    "collapsed": true
   },
   "outputs": [],
   "source": [
    "def get_error(sorted_data, x, p, is_int=False):\n",
    "    if is_int:\n",
    "        x = round(x)\n",
    "    n = len(sorted_data)\n",
    "    li = np.searchsorted(sorted_data, x, side=\"left\")\n",
    "    ri = np.searchsorted(sorted_data, x, side=\"right\")\n",
    "    qi = int(p * n)\n",
    "    if ri < qi:\n",
    "        return (qi-ri)*1.0/n\n",
    "    elif li > qi:\n",
    "        return (li-qi)*1.0/n\n",
    "    else:\n",
    "        return 0.0"
   ]
  },
  {
   "cell_type": "code",
   "execution_count": 30,
   "metadata": {
    "collapsed": true
   },
   "outputs": [],
   "source": [
    "precisions = [64, 48, 32, 24, 20, 16, 12, 8]"
   ]
  },
  {
   "cell_type": "code",
   "execution_count": 31,
   "metadata": {
    "collapsed": true
   },
   "outputs": [],
   "source": [
    "orig_df_milan_full = pd.read_csv(\"../sampledata/internet-mi-2013-11.csv\")\n",
    "orig_data_milan_full = orig_df_milan_full[\"internet\"]\n",
    "sorted_data_milan_full = np.sort(orig_data_milan_full)"
   ]
  },
  {
   "cell_type": "code",
   "execution_count": 32,
   "metadata": {
    "collapsed": true
   },
   "outputs": [],
   "source": [
    "orig_data_hepmass = pd.read_csv(\"../sampledata/hepmass_l.csv\", usecols=[0]).iloc[:,0]\n",
    "sorted_data_hepmass = np.sort(orig_data_hepmass)"
   ]
  },
  {
   "cell_type": "code",
   "execution_count": 33,
   "metadata": {
    "collapsed": true
   },
   "outputs": [],
   "source": [
    "colormap = {\n",
    "    7.0: \"C0\",\n",
    "    11.0: \"C1\",\n",
    "    19.0: \"C2\",\n",
    "    23.0: \"C3\",\n",
    "#     19.0: \"C4\",\n",
    "#     23.0: \"C5\",\n",
    "#     15.0: \"C6\"\n",
    "}\n",
    "markers = {\n",
    "    7.0: \"x\",\n",
    "    11.0: \"^\",\n",
    "    19.0: \"s\",\n",
    "    23.0: \"+\",\n",
    "#     19.0: \"D\",\n",
    "#     23.0: \"o\",\n",
    "#     15.0: \"<\"\n",
    "}"
   ]
  },
  {
   "cell_type": "code",
   "execution_count": 34,
   "metadata": {
    "collapsed": true
   },
   "outputs": [],
   "source": [
    "def flip(items, ncol):\n",
    "    return itertools.chain(*[items[i::ncol] for i in range(ncol)])"
   ]
  },
  {
   "cell_type": "code",
   "execution_count": 35,
   "metadata": {
    "collapsed": true
   },
   "outputs": [],
   "source": [
    "# size_params = [3.0, 7.0, 11.0, 15.0, 19.0, 23.0]\n",
    "size_params = [7.0, 11.0, 19.0, 23.0]"
   ]
  },
  {
   "cell_type": "code",
   "execution_count": 36,
   "metadata": {
    "collapsed": true
   },
   "outputs": [],
   "source": [
    "def gen_plot(df, sorted_data, name):\n",
    "    f, axs = plt.subplots(1,2, figsize=(6,2.3), sharey=True)\n",
    "    \n",
    "    for i in range(2):\n",
    "        dft = df[i]\n",
    "        dft[\"error\"] = dft.apply(\n",
    "            lambda r: get_error(\n",
    "                sorted_data[i], r[\"quantile_estimate\"], r[\"q\"],\n",
    "                is_int=False\n",
    "            ),\n",
    "            axis=1\n",
    "        )\n",
    "        dft[\"rerror\"] = dft[\"error\"] / np.minimum(dft[\"q\"],(1-dft[\"q\"]))\n",
    "        dfg = dft.groupby([\n",
    "            \"precision\", \"size_param\"\n",
    "        ])[\"train_time\", \"query_time\", \"space\", \"error\", \"rerror\", \"bound_size\"].mean()\n",
    "        dfs = dfg.reset_index().sort_values([\"precision\"])\n",
    "        \n",
    "        dfs = dfs[dfs[\"precision\"] != 6.0]\n",
    "    \n",
    "        ax = axs[i]\n",
    "        lines = []\n",
    "        labels = []\n",
    "        for size in size_params:\n",
    "            c_df = dfs[dfs[\"size_param\"] == size]\n",
    "            l, = ax.plot(\n",
    "                c_df[\"precision\"],\n",
    "                c_df[\"error\"], \n",
    "                label=\"k = \" + str(int(size)-1),\n",
    "                marker=markers[size],\n",
    "                color=colormap[size],\n",
    "                markersize=5,\n",
    "                ls=\"dotted\",\n",
    "                lw=1\n",
    "            )\n",
    "            lines.append(l)\n",
    "            labels.append(\"k = \" + str(int(size)-1))\n",
    "        ax.set_yscale('log')\n",
    "        ax.set_xlabel(\"Precision (bits per value)\")\n",
    "        if i == 0:\n",
    "            ax.set_ylabel(\"Avg Error\")\n",
    "        ax.set_title(name[i])\n",
    "        ax.yaxis.grid()\n",
    "    \n",
    "    ax.legend(frameon=False)\n",
    "#     lgd = f.legend(\n",
    "#         flip(lines, 4), flip(labels, 4),\n",
    "#         bbox_to_anchor=(0.16, 0.97, 1., .102), ncol=4, loc=2, frameon=False\n",
    "#     )\n",
    "    f.tight_layout()\n",
    "#     plt.savefig(\"low_precision.pdf\", bbox_extra_artists=(lgd,), bbox_inches='tight')\n",
    "    plt.savefig(\"low_precision.pdf\", bbox_inches='tight')"
   ]
  },
  {
   "cell_type": "code",
   "execution_count": 39,
   "metadata": {},
   "outputs": [
    {
     "data": {
      "image/png": "[encoded data removed]",
      "text/plain": [
       "<matplotlib.figure.Figure at 0x10dc6c278>"
      ]
     },
     "metadata": {},
     "output_type": "display_data"
    }
   ],
   "source": [
    "df_milan_merge = pd.read_csv(\"../javamsketch/results/precision_merge_milan.csv\")\n",
    "df_hepmass_merge = pd.read_csv(\"../javamsketch/results/precision_merge_hepmass.csv\")\n",
    "_ = gen_plot([df_milan_merge, df_hepmass_merge], [sorted_data_milan_full, sorted_data_hepmass], [\"milan\", \"hepmass\"])"
   ]
  },
  {
   "cell_type": "markdown",
   "metadata": {
    "collapsed": true
   },
   "source": [
    "# Other plots"
   ]
  },
  {
   "cell_type": "code",
   "execution_count": 38,
   "metadata": {},
   "outputs": [
    {
     "data": {
      "image/png": "[encoded data removed]",
      "text/plain": [
       "<matplotlib.figure.Figure at 0x113beee48>"
      ]
     },
     "metadata": {},
     "output_type": "display_data"
    }
   ],
   "source": [
    "df_milan = pd.read_csv(\"../javamsketch/results/precision_milan_1526547552.csv\")\n",
    "df_hepmass = pd.read_csv(\"../javamsketch/results/precision_hepmass_1526588547.csv\")\n",
    "\n",
    "_ = gen_plot([df_milan, df_hepmass], [sorted_data_milan_full, sorted_data_hepmass], [\"milan\", \"hepmass\"])"
   ]
  },
  {
   "cell_type": "markdown",
   "metadata": {},
   "source": [
    "# Results"
   ]
  },
  {
   "cell_type": "code",
   "execution_count": 27,
   "metadata": {
    "collapsed": true
   },
   "outputs": [],
   "source": [
    "pd.read_csv(\"../javamsketch/results/precision_merge_milan_1526697391.csv\").to_csv(\n",
    "    \"../javamsketch/results/precision_merge_milan.csv\")\n",
    "pd.read_csv(\"../javamsketch/results/precision_merge_hepmass_1526696046.csv\").to_csv(\n",
    "    \"../javamsketch/results/precision_merge_hepmass.csv\")"
   ]
  }
 ],
 "metadata": {
  "kernelspec": {
   "display_name": "Python 3",
   "language": "python",
   "name": "python3"
  },
  "language_info": {
   "codemirror_mode": {
    "name": "ipython",
    "version": 3
   },
   "file_extension": ".py",
   "mimetype": "text/x-python",
   "name": "python",
   "nbconvert_exporter": "python",
   "pygments_lexer": "ipython3",
   "version": "3.6.1"
  }
 },
 "nbformat": 4,
 "nbformat_minor": 2
}
