{
 "cells": [
  {
   "cell_type": "code",
   "execution_count": 2,
   "metadata": {
    "collapsed": true
   },
   "outputs": [],
   "source": [
    "%matplotlib inline\n",
    "import pandas as pd\n",
    "import numpy as np\n",
    "import matplotlib.pyplot as plt"
   ]
  },
  {
   "cell_type": "code",
   "execution_count": 3,
   "metadata": {
    "collapsed": true
   },
   "outputs": [],
   "source": [
    "def human_format(x):\n",
    "    sigpart = 0\n",
    "    suffix = \"\"\n",
    "    if x < 1000:\n",
    "        return \"{:.3g}\".format(x)\n",
    "    elif x < 1000000:\n",
    "        sigpart = x / 1000\n",
    "        suffix = \"k\"\n",
    "    elif x < 1000000000:\n",
    "        sigpart = x / 1000000\n",
    "        suffix = \"M\"\n",
    "    else:\n",
    "        sigpart = x / 1000000000\n",
    "        suffix = \"B\"\n",
    "    return \"{:.3g}{}\".format(sigpart, suffix)"
   ]
  },
  {
   "cell_type": "code",
   "execution_count": 4,
   "metadata": {
    "collapsed": true
   },
   "outputs": [],
   "source": [
    "df = pd.read_csv(\"../finalresults/druid.csv\")"
   ]
  },
  {
   "cell_type": "code",
   "execution_count": 7,
   "metadata": {},
   "outputs": [
    {
     "data": {
      "text/html": [
       "<div>\n",
       "<style scoped>\n",
       "    .dataframe tbody tr th:only-of-type {\n",
       "        vertical-align: middle;\n",
       "    }\n",
       "\n",
       "    .dataframe tbody tr th {\n",
       "        vertical-align: top;\n",
       "    }\n",
       "\n",
       "    .dataframe thead th {\n",
       "        text-align: right;\n",
       "    }\n",
       "</style>\n",
       "<table border=\"1\" class=\"dataframe\">\n",
       "  <thead>\n",
       "    <tr style=\"text-align: right;\">\n",
       "      <th></th>\n",
       "      <th>Dataset</th>\n",
       "      <th>Sketch</th>\n",
       "      <th>Size</th>\n",
       "      <th>Time</th>\n",
       "      <th>Rows</th>\n",
       "      <th>Cells</th>\n",
       "    </tr>\n",
       "  </thead>\n",
       "  <tbody>\n",
       "    <tr>\n",
       "      <th>0</th>\n",
       "      <td>milan1</td>\n",
       "      <td>sum</td>\n",
       "      <td>1</td>\n",
       "      <td>0.130</td>\n",
       "      <td>4829470.0</td>\n",
       "      <td>8.049117e+05</td>\n",
       "    </tr>\n",
       "    <tr>\n",
       "      <th>1</th>\n",
       "      <td>milan1</td>\n",
       "      <td>moments</td>\n",
       "      <td>10</td>\n",
       "      <td>0.670</td>\n",
       "      <td>4829470.0</td>\n",
       "      <td>8.049117e+05</td>\n",
       "    </tr>\n",
       "    <tr>\n",
       "      <th>2</th>\n",
       "      <td>milan1</td>\n",
       "      <td>stree</td>\n",
       "      <td>10</td>\n",
       "      <td>1.110</td>\n",
       "      <td>4829470.0</td>\n",
       "      <td>8.049117e+05</td>\n",
       "    </tr>\n",
       "    <tr>\n",
       "      <th>3</th>\n",
       "      <td>milan1</td>\n",
       "      <td>stree</td>\n",
       "      <td>100</td>\n",
       "      <td>3.330</td>\n",
       "      <td>4829470.0</td>\n",
       "      <td>8.049117e+05</td>\n",
       "    </tr>\n",
       "    <tr>\n",
       "      <th>4</th>\n",
       "      <td>milan1</td>\n",
       "      <td>stree</td>\n",
       "      <td>1000</td>\n",
       "      <td>25.990</td>\n",
       "      <td>4829470.0</td>\n",
       "      <td>8.049117e+05</td>\n",
       "    </tr>\n",
       "    <tr>\n",
       "      <th>5</th>\n",
       "      <td>milan5</td>\n",
       "      <td>sum</td>\n",
       "      <td>1</td>\n",
       "      <td>0.273</td>\n",
       "      <td>25800000.0</td>\n",
       "      <td>4.300000e+06</td>\n",
       "    </tr>\n",
       "    <tr>\n",
       "      <th>6</th>\n",
       "      <td>milan5</td>\n",
       "      <td>moments</td>\n",
       "      <td>10</td>\n",
       "      <td>1.700</td>\n",
       "      <td>25800000.0</td>\n",
       "      <td>4.300000e+06</td>\n",
       "    </tr>\n",
       "    <tr>\n",
       "      <th>7</th>\n",
       "      <td>milan5</td>\n",
       "      <td>stree</td>\n",
       "      <td>10</td>\n",
       "      <td>3.650</td>\n",
       "      <td>25800000.0</td>\n",
       "      <td>4.300000e+06</td>\n",
       "    </tr>\n",
       "    <tr>\n",
       "      <th>8</th>\n",
       "      <td>milan5</td>\n",
       "      <td>stree</td>\n",
       "      <td>100</td>\n",
       "      <td>12.100</td>\n",
       "      <td>25800000.0</td>\n",
       "      <td>4.300000e+06</td>\n",
       "    </tr>\n",
       "    <tr>\n",
       "      <th>9</th>\n",
       "      <td>milan5</td>\n",
       "      <td>stree</td>\n",
       "      <td>1000</td>\n",
       "      <td>99.000</td>\n",
       "      <td>25800000.0</td>\n",
       "      <td>4.300000e+06</td>\n",
       "    </tr>\n",
       "  </tbody>\n",
       "</table>\n",
       "</div>"
      ],
      "text/plain": [
       "  Dataset   Sketch  Size    Time        Rows         Cells\n",
       "0  milan1      sum     1   0.130   4829470.0  8.049117e+05\n",
       "1  milan1  moments    10   0.670   4829470.0  8.049117e+05\n",
       "2  milan1    stree    10   1.110   4829470.0  8.049117e+05\n",
       "3  milan1    stree   100   3.330   4829470.0  8.049117e+05\n",
       "4  milan1    stree  1000  25.990   4829470.0  8.049117e+05\n",
       "5  milan5      sum     1   0.273  25800000.0  4.300000e+06\n",
       "6  milan5  moments    10   1.700  25800000.0  4.300000e+06\n",
       "7  milan5    stree    10   3.650  25800000.0  4.300000e+06\n",
       "8  milan5    stree   100  12.100  25800000.0  4.300000e+06\n",
       "9  milan5    stree  1000  99.000  25800000.0  4.300000e+06"
      ]
     },
     "execution_count": 7,
     "metadata": {},
     "output_type": "execute_result"
    }
   ],
   "source": [
    "df"
   ]
  },
  {
   "cell_type": "code",
   "execution_count": 8,
   "metadata": {
    "collapsed": true
   },
   "outputs": [],
   "source": [
    "datasets = [\"milan5\"]\n",
    "datasetnames = [\n",
    "    \"Milan 5 Day\"\n",
    "]\n",
    "sketches = [\n",
    "    (\"sum\", 1),\n",
    "    (\"moments\", 10),\n",
    "    (\"stree\", 10),\n",
    "    (\"stree\", 100),\n",
    "    (\"stree\", 1000)\n",
    "]\n",
    "sketchnames = [\n",
    "    \"sum\",\n",
    "    \"moments\",\n",
    "    \"S-Hist:10\",\n",
    "    \"S-Hist:100\",\n",
    "    \"S-Hist:1000\"\n",
    "]\n",
    "patterns = [ \"/\" , \"\\\\\" , \"|\" , \"-\" , \"+\" , \"x\", \"o\", \"O\", \".\", \"*\" ]"
   ]
  },
  {
   "cell_type": "code",
   "execution_count": 20,
   "metadata": {},
   "outputs": [
    {
     "data": {
      "image/png": "[encoded data removed]",
      "text/plain": [
       "<matplotlib.figure.Figure at 0x106fac400>"
      ]
     },
     "metadata": {},
     "output_type": "display_data"
    }
   ],
   "source": [
    "fig, ax = plt.subplots(figsize=(6,3), ncols=1, sharey=True, dpi=100)\n",
    "for di in range(len(datasets)):\n",
    "    dname = datasets[di]\n",
    "    data = df[(df.Dataset == dname)]\n",
    "    xlocs = np.arange(0, len(sketches))\n",
    "    ys = data.Time\n",
    "    ax.bar(\n",
    "        xlocs,\n",
    "        height=ys,\n",
    "        log=True,\n",
    "#         color = [\"C0\", \"C1\", \"C2\", \"C3\", \"C4\"]\n",
    "    )\n",
    "    rects = ax.patches\n",
    "    for rect, label in zip(rects, ys):\n",
    "        height = rect.get_height()\n",
    "        ax.text(\n",
    "            rect.get_x() + rect.get_width()/2, \n",
    "            height,\n",
    "            human_format(label),\n",
    "            ha='center', va='bottom', size = 8,\n",
    "        )\n",
    "\n",
    "    ax.set_xticks(xlocs)\n",
    "    ax.set_xticklabels(sketchnames)\n",
    "    ax.yaxis.grid(True)\n",
    "    ax.set_title(\"Druid Test: milan (10 Million cells)\")\n",
    "    if di == 0:\n",
    "        ax.set_ylabel(\"Query Time (s)\")\n",
    "    ax.set_ylim(0.1, 200)\n",
    "    ax.set_xlabel(\"Sketch\")\n",
    "plt.tight_layout()\n",
    "plt.savefig(\"druid.pdf\")"
   ]
  },
  {
   "cell_type": "code",
   "execution_count": null,
   "metadata": {
    "collapsed": true
   },
   "outputs": [],
   "source": []
  }
 ],
 "metadata": {
  "kernelspec": {
   "display_name": "Python 3",
   "language": "python",
   "name": "python3"
  },
  "language_info": {
   "codemirror_mode": {
    "name": "ipython",
    "version": 3
   },
   "file_extension": ".py",
   "mimetype": "text/x-python",
   "name": "python",
   "nbconvert_exporter": "python",
   "pygments_lexer": "ipython3",
   "version": "3.6.2"
  }
 },
 "nbformat": 4,
 "nbformat_minor": 2
}
