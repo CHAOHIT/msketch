{
 "cells": [
  {
   "cell_type": "code",
   "execution_count": 1,
   "metadata": {
    "collapsed": true
   },
   "outputs": [],
   "source": [
    "%matplotlib inline\n",
    "\n",
    "import matplotlib\n",
    "import numpy as np\n",
    "import matplotlib.pyplot as plt\n",
    "import pandas as pd\n",
    "import sys\n",
    "import csv"
   ]
  },
  {
   "cell_type": "markdown",
   "metadata": {},
   "source": [
    "# Data creation"
   ]
  },
  {
   "cell_type": "code",
   "execution_count": 22,
   "metadata": {
    "collapsed": true
   },
   "outputs": [],
   "source": [
    "time = ['PipelineInfo_IngestionTime']\n",
    "attributes = [\n",
    "    \"EventInfo_SdkVersion\",\n",
    "    \"DeviceInfo_NetworkType\",\n",
    "    \"UserInfo_TimeZone\"\n",
    "]\n",
    "metric = ['records_received_count']"
   ]
  },
  {
   "cell_type": "code",
   "execution_count": 32,
   "metadata": {
    "collapsed": true
   },
   "outputs": [],
   "source": [
    "full_data = pd.read_csv(\"/lfs/1/jding/datasets/aria.csv\", usecols=attributes+time+metric)"
   ]
  },
  {
   "cell_type": "code",
   "execution_count": 33,
   "metadata": {
    "collapsed": true
   },
   "outputs": [],
   "source": [
    "full_data[\"10min\"] = pd.to_datetime(full_data['PipelineInfo_IngestionTime']).dt.round(\"10min\")"
   ]
  },
  {
   "cell_type": "code",
   "execution_count": 34,
   "metadata": {
    "collapsed": true
   },
   "outputs": [],
   "source": [
    "full_data_clean = full_data[np.isfinite(full_data['records_received_count'])]"
   ]
  },
  {
   "cell_type": "code",
   "execution_count": 38,
   "metadata": {
    "collapsed": true
   },
   "outputs": [],
   "source": [
    "full_data_clean = full_data_clean.dropna(subset=['UserInfo_TimeZone'])"
   ]
  },
  {
   "cell_type": "code",
   "execution_count": 35,
   "metadata": {
    "collapsed": true
   },
   "outputs": [],
   "source": [
    "# full_data_clean.to_csv(\"/lfs/1/jding/datasets/aria-filtered.csv\", index=False)"
   ]
  },
  {
   "cell_type": "code",
   "execution_count": 49,
   "metadata": {
    "collapsed": true
   },
   "outputs": [],
   "source": [
    "# full_data_clean[\"records_received_count\"].to_csv(\"/lfs/1/jding/datasets/aria-metric.csv\", index=False, header=[\"records_received_count\"])"
   ]
  },
  {
   "cell_type": "code",
   "execution_count": 44,
   "metadata": {
    "collapsed": true
   },
   "outputs": [],
   "source": [
    "full_groups = full_data_clean.groupby(attributes + [\"10min\"])['records_received_count'].apply(list).reset_index()"
   ]
  },
  {
   "cell_type": "code",
   "execution_count": 124,
   "metadata": {
    "collapsed": true
   },
   "outputs": [],
   "source": [
    "# full_groups[\"records_received_count\"].to_csv(\"/lfs/1/jding/datasets/aria-grouped.csv\", index=False, header=[\"records_received_count\"])"
   ]
  },
  {
   "cell_type": "markdown",
   "metadata": {},
   "source": [
    "# Merge plot"
   ]
  },
  {
   "cell_type": "code",
   "execution_count": 10,
   "metadata": {
    "collapsed": true
   },
   "outputs": [],
   "source": [
    "sketches = [\"cmoments\", \"yahoo\", \"random\", \"gk_adaptive\", \"tdigest\", \"sampling\", \"approx_histogram\", \"histogram\"]"
   ]
  },
  {
   "cell_type": "code",
   "execution_count": 11,
   "metadata": {
    "collapsed": true
   },
   "outputs": [],
   "source": [
    "colormap = {\n",
    "    \"cmoments\": \"C0\",\n",
    "    \"tdigest\": \"C1\",\n",
    "    \"yahoo\": \"C2\",\n",
    "    \"gk_adaptive\": \"C3\",\n",
    "    \"histogram\": \"C4\",\n",
    "    \"sampling\": \"C5\",\n",
    "    \"approx_histogram\": \"C6\",\n",
    "    \"random\": \"C7\",\n",
    "}\n",
    "markers = {\n",
    "    \"cmoments\": \"x\",\n",
    "    \"tdigest\": \"^\",\n",
    "    \"yahoo\": \"s\",\n",
    "    \"gk_adaptive\": \"+\",\n",
    "    \"histogram\": \"D\",\n",
    "    \"sampling\": \"o\",\n",
    "    \"approx_histogram\": \"<\",\n",
    "    \"random\": \">\",\n",
    "}\n",
    "alg_display_name = {\n",
    "    \"cmoments\": \"M-Sketch\",\n",
    "    \"tdigest\": \"T-Digest\",\n",
    "    \"yahoo\": \"Merge12\",\n",
    "    \"gk_adaptive\": \"GK\",\n",
    "    \"histogram\": \"EW-Hist\",\n",
    "    \"sampling\": \"Sampling\",\n",
    "    \"approx_histogram\": \"S-Hist\",\n",
    "    \"random\": \"RandomW\",\n",
    "}"
   ]
  },
  {
   "cell_type": "code",
   "execution_count": 12,
   "metadata": {
    "collapsed": true
   },
   "outputs": [],
   "source": [
    "def get_error(sorted_data, x, p, is_int=False):\n",
    "    if is_int:\n",
    "        x = round(x)\n",
    "    n = len(sorted_data)\n",
    "    li = np.searchsorted(sorted_data, x, side=\"left\")\n",
    "    ri = np.searchsorted(sorted_data, x, side=\"right\")\n",
    "    qi = int(p * n)\n",
    "    if ri < qi:\n",
    "        return (qi-ri)*1.0/n\n",
    "    elif li > qi:\n",
    "        return (li-qi)*1.0/n\n",
    "    else:\n",
    "        return 0.0"
   ]
  },
  {
   "cell_type": "code",
   "execution_count": 13,
   "metadata": {
    "collapsed": true
   },
   "outputs": [],
   "source": [
    "def gen_plots(df, sorted_data, name, is_int=True):\n",
    "    dft = df\n",
    "    dft[\"error\"] = dft.apply(\n",
    "        lambda r: get_error(\n",
    "            sorted_data, r[\"quantile_estimate\"], r[\"q\"],\n",
    "            is_int=is_int\n",
    "        ),\n",
    "        axis=1\n",
    "    )\n",
    "    dft[\"rerror\"] = dft[\"error\"] / np.minimum(dft[\"q\"],(1-dft[\"q\"]))\n",
    "    dfg = dft[dft[\"trial\"] > 0].groupby([\n",
    "        \"sketch\", \"size_param\"\n",
    "    ])[\n",
    "        \"train_time\",\"merge_time\", \"query_time\", \n",
    "        \"space\", \"error\", \"rerror\", \"bound_size\", \"n\"\n",
    "      ].mean()\n",
    "    dfs = dfg.reset_index().sort_values([\"size_param\"])\n",
    "    \n",
    "    f, axs = plt.subplots(1,2, figsize=(6, 2.3), sharey=False)\n",
    "    \n",
    "    ax = axs[0]\n",
    "    for alg in sketches:\n",
    "        c_df = dfs[dfs[\"sketch\"] == alg]\n",
    "        l, = ax.loglog(\n",
    "            c_df[\"space\"], \n",
    "            (c_df[\"merge_time\"])*1e-6/c_df[\"n\"],\n",
    "            label=alg_display_name[alg],\n",
    "            marker=markers[alg],\n",
    "            color=colormap[alg],\n",
    "            markersize=5,\n",
    "            ls=\"dotted\",\n",
    "            lw=1,\n",
    "        )\n",
    "    ax.set_xlabel(\"Size (bytes)\")\n",
    "    ax.set_ylabel(\"Merge Time (ms)\")\n",
    "    ax.set_ylim(bottom=1e-5)\n",
    "    ax.yaxis.grid(True)\n",
    "    \n",
    "    ax = axs[1]\n",
    "    lines = []\n",
    "    labels = []\n",
    "    for alg in sketches:\n",
    "        c_df = dfs[dfs[\"sketch\"] == alg]\n",
    "        l, = ax.loglog(\n",
    "            c_df[\"space\"],\n",
    "            c_df[\"error\"], \n",
    "            label=alg_display_name[alg],\n",
    "            marker=markers[alg],\n",
    "            color=colormap[alg],\n",
    "            markersize=5,\n",
    "            ls=\"dotted\",\n",
    "            lw=1,\n",
    "        )\n",
    "        lines.append(l)\n",
    "        labels.append(alg_display_name[alg])\n",
    "    ax.set_xlabel(\"Size (Bytes)\")\n",
    "    ax.set_ylabel(\"Mean Error $\\epsilon_{avg}$\")\n",
    "    ax.yaxis.grid(True)\n",
    "    lgd = f.legend(\n",
    "        lines, labels,\n",
    "        bbox_to_anchor=(0.05, 1.05, 1., .102), ncol=4, loc=2,\n",
    "        frameon=False\n",
    "    )\n",
    "    f.tight_layout()\n",
    "    f.savefig(\"{}.pdf\".format(name), bbox_extra_artists=(lgd,), bbox_inches='tight')\n",
    "    \n",
    "    return dft"
   ]
  },
  {
   "cell_type": "code",
   "execution_count": 14,
   "metadata": {
    "collapsed": true
   },
   "outputs": [],
   "source": [
    "orig_df = pd.read_csv(\"/lfs/1/jding/datasets/aria-metric.csv\")\n",
    "orig_data = orig_df[\"records_received_count\"]\n",
    "sorted_data = np.sort(orig_data)"
   ]
  },
  {
   "cell_type": "code",
   "execution_count": 15,
   "metadata": {},
   "outputs": [
    {
     "data": {
      "image/png": "[encoded data removed]",
      "text/plain": [
       "<Figure size 432x165.6 with 2 Axes>"
      ]
     },
     "metadata": {},
     "output_type": "display_data"
    }
   ],
   "source": [
    "df = pd.read_csv(\"../javamsketch/results/merge_aria.csv\")\n",
    "dft = gen_plots(df, sorted_data, \"aria_merge\")"
   ]
  },
  {
   "cell_type": "markdown",
   "metadata": {},
   "source": [
    "# CDF plot"
   ]
  },
  {
   "cell_type": "code",
   "execution_count": 2,
   "metadata": {
    "collapsed": true
   },
   "outputs": [],
   "source": [
    "metrics = pd.read_csv(\"/lfs/1/jding/datasets/aria-metric.csv\")"
   ]
  },
  {
   "cell_type": "code",
   "execution_count": 3,
   "metadata": {
    "collapsed": true
   },
   "outputs": [],
   "source": [
    "groups = pd.read_csv(\"/lfs/1/jding/datasets/aria-grouped.csv\")"
   ]
  },
  {
   "cell_type": "code",
   "execution_count": 4,
   "metadata": {
    "collapsed": true
   },
   "outputs": [],
   "source": [
    "sorted_metrics = metrics[\"records_received_count\"].sort_values()"
   ]
  },
  {
   "cell_type": "code",
   "execution_count": 5,
   "metadata": {
    "collapsed": true
   },
   "outputs": [],
   "source": [
    "group_counts = groups[\"records_received_count\"].apply(len)\n",
    "sorted_group_counts = group_counts.sort_values()"
   ]
  },
  {
   "cell_type": "code",
   "execution_count": 6,
   "metadata": {
    "collapsed": true
   },
   "outputs": [],
   "source": [
    "sorted_metrics_sample = sorted_metrics.iloc[::100].append(pd.Series(sorted_metrics.iloc[-1]))"
   ]
  },
  {
   "cell_type": "code",
   "execution_count": 7,
   "metadata": {
    "collapsed": true
   },
   "outputs": [],
   "source": [
    "def gen_plot(sorted_metrics, sorted_group_counts, name):\n",
    "    f, axs = plt.subplots(1,2, figsize=(6, 2.3), sharey=True)\n",
    "    \n",
    "    cdf_metrics = np.arange(len(sorted_metrics)) / float(len(sorted_metrics))\n",
    "    cdf_groups = np.arange(len(sorted_group_counts)) / float(len(sorted_group_counts))\n",
    "    \n",
    "    ax = axs[0]\n",
    "    ax.plot(sorted_metrics, cdf_metrics)\n",
    "    ax.set_xscale('log')\n",
    "    ax.set_title(\"Data Values\")\n",
    "    ax.set_ylabel(\"CDF\")\n",
    "    ax.set_xlabel(\"Value\")\n",
    "    ax.yaxis.grid(True)\n",
    "    \n",
    "    ax = axs[1]\n",
    "    ax.plot(sorted_group_counts, cdf_groups)\n",
    "    ax.set_xscale('log')\n",
    "    ax.set_title(\"Cell Sizes\")\n",
    "    ax.set_xlabel(\"Cell Size\")\n",
    "    ax.yaxis.grid(True)\n",
    "    \n",
    "    f.tight_layout()\n",
    "    f.savefig(\"{}.pdf\".format(name))"
   ]
  },
  {
   "cell_type": "code",
   "execution_count": 8,
   "metadata": {},
   "outputs": [
    {
     "data": {
      "image/png": "[encoded data removed]",
      "text/plain": [
       "<Figure size 432x165.6 with 2 Axes>"
      ]
     },
     "metadata": {},
     "output_type": "display_data"
    }
   ],
   "source": [
    "gen_plot(sorted_metrics_sample, sorted_group_counts, \"aria_cdf\")"
   ]
  },
  {
   "cell_type": "markdown",
   "metadata": {
    "collapsed": true
   },
   "source": [
    "# Combine results"
   ]
  },
  {
   "cell_type": "code",
   "execution_count": 9,
   "metadata": {
    "collapsed": true
   },
   "outputs": [],
   "source": [
    "df = pd.concat([\n",
    "    pd.read_csv(\"../javamsketch/results/merge_aria_1527578344.csv\"),\n",
    "    pd.read_csv(\"../javamsketch/results/merge_aria_r_1527632457.csv\"),\n",
    "    pd.read_csv(\"../javamsketch/results/merge_aria_g_1527816607.csv\")\n",
    "])\n",
    "df.to_csv(\"../javamsketch/results/merge_aria.csv\")"
   ]
  },
  {
   "cell_type": "code",
   "execution_count": null,
   "metadata": {
    "collapsed": true
   },
   "outputs": [],
   "source": []
  }
 ],
 "metadata": {
  "kernelspec": {
   "display_name": "Python 2",
   "language": "python",
   "name": "python2"
  },
  "language_info": {
   "codemirror_mode": {
    "name": "ipython",
    "version": 2
   },
   "file_extension": ".py",
   "mimetype": "text/x-python",
   "name": "python",
   "nbconvert_exporter": "python",
   "pygments_lexer": "ipython2",
   "version": "2.7.12"
  }
 },
 "nbformat": 4,
 "nbformat_minor": 2
}
